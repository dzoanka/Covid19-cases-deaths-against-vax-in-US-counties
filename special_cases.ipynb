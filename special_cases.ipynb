{
 "cells": [
  {
   "cell_type": "markdown",
   "id": "64ba5679-a4db-4cbe-86a1-01d801666376",
   "metadata": {},
   "source": [
    "## This notebook analyses several special cases examples"
   ]
  },
  {
   "cell_type": "code",
   "execution_count": 2,
   "id": "a3103a4a-4a14-440e-a333-0f11580a00c3",
   "metadata": {},
   "outputs": [],
   "source": [
    "#Imports\n",
    "import pandas as pd\n",
    "import matplotlib.pyplot as plt"
   ]
  },
  {
   "cell_type": "code",
   "execution_count": 3,
   "id": "87d052b5-f146-4c89-ba1c-fee7bbb76a36",
   "metadata": {},
   "outputs": [],
   "source": [
    "df_pop = pd.read_csv('input_data/covid_county_population_usafacts.csv')\n",
    "df_deaths = pd.read_csv('input_data/covid_deaths_usafacts.csv')\n",
    "df_cases = pd.read_csv('input_data/covid_confirmed_usafacts.csv')\n",
    "df_vax = pd.read_csv('input_data/COVID-19_Vaccinations_in_the_United_States_County.csv')"
   ]
  },
  {
   "cell_type": "code",
   "execution_count": 4,
   "id": "48114960-a0d0-470e-9820-953e25dc4d27",
   "metadata": {},
   "outputs": [],
   "source": [
    "def days_of_months_printer(month, no_days, year=2022):\n",
    "    month = \"0\" * (2-len(str(month))) + str(month)\n",
    "    list_of_days = list()\n",
    "    for i in range(1, no_days+1):\n",
    "        list_of_days.append(month + \"/\" + \"0\" * (2-len(str(i))) + str(i) + \"/\" + str(year))\n",
    "    return list_of_days\n",
    "\n",
    "def days_of_months_printer_ww(month, no_days, year=2022):\n",
    "    month = \"0\" * (2-len(str(month))) + str(month)\n",
    "    list_of_days = list()\n",
    "    for i in range(1, no_days+1):\n",
    "        list_of_days.append(str(year) + \"-\" + month + \"-\" + \"0\" * (2-len(str(i))) + str(i))\n",
    "    return list_of_days"
   ]
  },
  {
   "cell_type": "markdown",
   "id": "d562d4aa-0057-47a7-b9f4-160c6ceee9d5",
   "metadata": {},
   "source": [
    "### Blaine County, Twin Falls County, Ada County"
   ]
  },
  {
   "cell_type": "code",
   "execution_count": 5,
   "id": "10362622-dcf2-4a7b-847b-92640ed0acb6",
   "metadata": {},
   "outputs": [],
   "source": [
    "counties_to_analyse = ['Blaine County', 'Twin Falls County', 'Ada County']\n",
    "fips_to_analyse = [16013, 16083, 16001]"
   ]
  },
  {
   "cell_type": "code",
   "execution_count": 6,
   "id": "54b5b1d8-4e8a-49fb-8574-a0d327d59642",
   "metadata": {},
   "outputs": [],
   "source": [
    "days = days_of_months_printer(1, 31) + days_of_months_printer(2, 28) + days_of_months_printer(3, 22)\n",
    "lst_filter_vax = []\n",
    "for fips in fips_to_analyse:\n",
    "    fips_f = '0' * (5 - len(str(fips))) + str(fips)\n",
    "    lst_filter_vax.extend(df_vax.loc[(df_vax['FIPS'] == fips_f) & (df_vax['Date'].isin(days))].values.tolist())"
   ]
  },
  {
   "cell_type": "code",
   "execution_count": 7,
   "id": "c65dfba4-7476-416c-a0f5-a00c7a5dbdd7",
   "metadata": {},
   "outputs": [
    {
     "data": {
      "text/html": [
       "<div>\n",
       "<style scoped>\n",
       "    .dataframe tbody tr th:only-of-type {\n",
       "        vertical-align: middle;\n",
       "    }\n",
       "\n",
       "    .dataframe tbody tr th {\n",
       "        vertical-align: top;\n",
       "    }\n",
       "\n",
       "    .dataframe thead th {\n",
       "        text-align: right;\n",
       "    }\n",
       "</style>\n",
       "<table border=\"1\" class=\"dataframe\">\n",
       "  <thead>\n",
       "    <tr style=\"text-align: right;\">\n",
       "      <th></th>\n",
       "      <th>Date</th>\n",
       "      <th>FIPS</th>\n",
       "      <th>MMWR_week</th>\n",
       "      <th>Recip_County</th>\n",
       "      <th>Recip_State</th>\n",
       "      <th>Completeness_pct</th>\n",
       "      <th>Administered_Dose1_Recip</th>\n",
       "      <th>Administered_Dose1_Pop_Pct</th>\n",
       "      <th>Administered_Dose1_Recip_5Plus</th>\n",
       "      <th>Administered_Dose1_Recip_5PlusPop_Pct</th>\n",
       "      <th>...</th>\n",
       "      <th>Booster_Doses_Vax_Pct_UR_Equity</th>\n",
       "      <th>Booster_Doses_12PlusVax_Pct_UR_Equity</th>\n",
       "      <th>Booster_Doses_18PlusVax_Pct_UR_Equity</th>\n",
       "      <th>Booster_Doses_65PlusVax_Pct_UR_Equity</th>\n",
       "      <th>Census2019</th>\n",
       "      <th>Census2019_5PlusPop</th>\n",
       "      <th>Census2019_5to17Pop</th>\n",
       "      <th>Census2019_12PlusPop</th>\n",
       "      <th>Census2019_18PlusPop</th>\n",
       "      <th>Census2019_65PlusPop</th>\n",
       "    </tr>\n",
       "  </thead>\n",
       "  <tbody>\n",
       "    <tr>\n",
       "      <th>0</th>\n",
       "      <td>03/22/2022</td>\n",
       "      <td>16013</td>\n",
       "      <td>12</td>\n",
       "      <td>Blaine County</td>\n",
       "      <td>ID</td>\n",
       "      <td>97.8</td>\n",
       "      <td>21501.0</td>\n",
       "      <td>93.4</td>\n",
       "      <td>21500.0</td>\n",
       "      <td>95.0</td>\n",
       "      <td>...</td>\n",
       "      <td>NaN</td>\n",
       "      <td>NaN</td>\n",
       "      <td>NaN</td>\n",
       "      <td>NaN</td>\n",
       "      <td>23021.0</td>\n",
       "      <td>21922.0</td>\n",
       "      <td>NaN</td>\n",
       "      <td>20109.0</td>\n",
       "      <td>18163.0</td>\n",
       "      <td>4683.0</td>\n",
       "    </tr>\n",
       "    <tr>\n",
       "      <th>1</th>\n",
       "      <td>03/21/2022</td>\n",
       "      <td>16013</td>\n",
       "      <td>12</td>\n",
       "      <td>Blaine County</td>\n",
       "      <td>ID</td>\n",
       "      <td>97.8</td>\n",
       "      <td>21499.0</td>\n",
       "      <td>93.4</td>\n",
       "      <td>21498.0</td>\n",
       "      <td>95.0</td>\n",
       "      <td>...</td>\n",
       "      <td>NaN</td>\n",
       "      <td>NaN</td>\n",
       "      <td>NaN</td>\n",
       "      <td>NaN</td>\n",
       "      <td>23021.0</td>\n",
       "      <td>21922.0</td>\n",
       "      <td>NaN</td>\n",
       "      <td>20109.0</td>\n",
       "      <td>18163.0</td>\n",
       "      <td>4683.0</td>\n",
       "    </tr>\n",
       "    <tr>\n",
       "      <th>2</th>\n",
       "      <td>03/20/2022</td>\n",
       "      <td>16013</td>\n",
       "      <td>12</td>\n",
       "      <td>Blaine County</td>\n",
       "      <td>ID</td>\n",
       "      <td>97.8</td>\n",
       "      <td>21499.0</td>\n",
       "      <td>93.4</td>\n",
       "      <td>21498.0</td>\n",
       "      <td>95.0</td>\n",
       "      <td>...</td>\n",
       "      <td>NaN</td>\n",
       "      <td>NaN</td>\n",
       "      <td>NaN</td>\n",
       "      <td>NaN</td>\n",
       "      <td>23021.0</td>\n",
       "      <td>21922.0</td>\n",
       "      <td>NaN</td>\n",
       "      <td>20109.0</td>\n",
       "      <td>18163.0</td>\n",
       "      <td>4683.0</td>\n",
       "    </tr>\n",
       "    <tr>\n",
       "      <th>3</th>\n",
       "      <td>03/19/2022</td>\n",
       "      <td>16013</td>\n",
       "      <td>11</td>\n",
       "      <td>Blaine County</td>\n",
       "      <td>ID</td>\n",
       "      <td>97.8</td>\n",
       "      <td>21497.0</td>\n",
       "      <td>93.4</td>\n",
       "      <td>21496.0</td>\n",
       "      <td>95.0</td>\n",
       "      <td>...</td>\n",
       "      <td>NaN</td>\n",
       "      <td>NaN</td>\n",
       "      <td>NaN</td>\n",
       "      <td>NaN</td>\n",
       "      <td>23021.0</td>\n",
       "      <td>21922.0</td>\n",
       "      <td>NaN</td>\n",
       "      <td>20109.0</td>\n",
       "      <td>18163.0</td>\n",
       "      <td>4683.0</td>\n",
       "    </tr>\n",
       "    <tr>\n",
       "      <th>4</th>\n",
       "      <td>03/18/2022</td>\n",
       "      <td>16013</td>\n",
       "      <td>11</td>\n",
       "      <td>Blaine County</td>\n",
       "      <td>ID</td>\n",
       "      <td>97.8</td>\n",
       "      <td>21492.0</td>\n",
       "      <td>93.4</td>\n",
       "      <td>21491.0</td>\n",
       "      <td>95.0</td>\n",
       "      <td>...</td>\n",
       "      <td>NaN</td>\n",
       "      <td>NaN</td>\n",
       "      <td>NaN</td>\n",
       "      <td>NaN</td>\n",
       "      <td>23021.0</td>\n",
       "      <td>21922.0</td>\n",
       "      <td>NaN</td>\n",
       "      <td>20109.0</td>\n",
       "      <td>18163.0</td>\n",
       "      <td>4683.0</td>\n",
       "    </tr>\n",
       "    <tr>\n",
       "      <th>...</th>\n",
       "      <td>...</td>\n",
       "      <td>...</td>\n",
       "      <td>...</td>\n",
       "      <td>...</td>\n",
       "      <td>...</td>\n",
       "      <td>...</td>\n",
       "      <td>...</td>\n",
       "      <td>...</td>\n",
       "      <td>...</td>\n",
       "      <td>...</td>\n",
       "      <td>...</td>\n",
       "      <td>...</td>\n",
       "      <td>...</td>\n",
       "      <td>...</td>\n",
       "      <td>...</td>\n",
       "      <td>...</td>\n",
       "      <td>...</td>\n",
       "      <td>...</td>\n",
       "      <td>...</td>\n",
       "      <td>...</td>\n",
       "      <td>...</td>\n",
       "    </tr>\n",
       "    <tr>\n",
       "      <th>238</th>\n",
       "      <td>01/05/2022</td>\n",
       "      <td>16001</td>\n",
       "      <td>1</td>\n",
       "      <td>Ada County</td>\n",
       "      <td>ID</td>\n",
       "      <td>97.6</td>\n",
       "      <td>289931.0</td>\n",
       "      <td>60.2</td>\n",
       "      <td>NaN</td>\n",
       "      <td>NaN</td>\n",
       "      <td>...</td>\n",
       "      <td>NaN</td>\n",
       "      <td>NaN</td>\n",
       "      <td>NaN</td>\n",
       "      <td>NaN</td>\n",
       "      <td>481587.0</td>\n",
       "      <td>454456.0</td>\n",
       "      <td>NaN</td>\n",
       "      <td>410672.0</td>\n",
       "      <td>369857.0</td>\n",
       "      <td>71958.0</td>\n",
       "    </tr>\n",
       "    <tr>\n",
       "      <th>239</th>\n",
       "      <td>01/04/2022</td>\n",
       "      <td>16001</td>\n",
       "      <td>1</td>\n",
       "      <td>Ada County</td>\n",
       "      <td>ID</td>\n",
       "      <td>97.6</td>\n",
       "      <td>289745.0</td>\n",
       "      <td>60.2</td>\n",
       "      <td>NaN</td>\n",
       "      <td>NaN</td>\n",
       "      <td>...</td>\n",
       "      <td>NaN</td>\n",
       "      <td>NaN</td>\n",
       "      <td>NaN</td>\n",
       "      <td>NaN</td>\n",
       "      <td>481587.0</td>\n",
       "      <td>454456.0</td>\n",
       "      <td>NaN</td>\n",
       "      <td>410672.0</td>\n",
       "      <td>369857.0</td>\n",
       "      <td>71958.0</td>\n",
       "    </tr>\n",
       "    <tr>\n",
       "      <th>240</th>\n",
       "      <td>01/03/2022</td>\n",
       "      <td>16001</td>\n",
       "      <td>1</td>\n",
       "      <td>Ada County</td>\n",
       "      <td>ID</td>\n",
       "      <td>97.6</td>\n",
       "      <td>289299.0</td>\n",
       "      <td>60.1</td>\n",
       "      <td>NaN</td>\n",
       "      <td>NaN</td>\n",
       "      <td>...</td>\n",
       "      <td>NaN</td>\n",
       "      <td>NaN</td>\n",
       "      <td>NaN</td>\n",
       "      <td>NaN</td>\n",
       "      <td>481587.0</td>\n",
       "      <td>454456.0</td>\n",
       "      <td>NaN</td>\n",
       "      <td>410672.0</td>\n",
       "      <td>369857.0</td>\n",
       "      <td>71958.0</td>\n",
       "    </tr>\n",
       "    <tr>\n",
       "      <th>241</th>\n",
       "      <td>01/02/2022</td>\n",
       "      <td>16001</td>\n",
       "      <td>0</td>\n",
       "      <td>Ada County</td>\n",
       "      <td>ID</td>\n",
       "      <td>97.6</td>\n",
       "      <td>289286.0</td>\n",
       "      <td>60.1</td>\n",
       "      <td>NaN</td>\n",
       "      <td>NaN</td>\n",
       "      <td>...</td>\n",
       "      <td>NaN</td>\n",
       "      <td>NaN</td>\n",
       "      <td>NaN</td>\n",
       "      <td>NaN</td>\n",
       "      <td>481587.0</td>\n",
       "      <td>454456.0</td>\n",
       "      <td>NaN</td>\n",
       "      <td>410672.0</td>\n",
       "      <td>369857.0</td>\n",
       "      <td>71958.0</td>\n",
       "    </tr>\n",
       "    <tr>\n",
       "      <th>242</th>\n",
       "      <td>01/01/2022</td>\n",
       "      <td>16001</td>\n",
       "      <td>0</td>\n",
       "      <td>Ada County</td>\n",
       "      <td>ID</td>\n",
       "      <td>97.6</td>\n",
       "      <td>289286.0</td>\n",
       "      <td>60.1</td>\n",
       "      <td>NaN</td>\n",
       "      <td>NaN</td>\n",
       "      <td>...</td>\n",
       "      <td>NaN</td>\n",
       "      <td>NaN</td>\n",
       "      <td>NaN</td>\n",
       "      <td>NaN</td>\n",
       "      <td>481587.0</td>\n",
       "      <td>454456.0</td>\n",
       "      <td>NaN</td>\n",
       "      <td>410672.0</td>\n",
       "      <td>369857.0</td>\n",
       "      <td>71958.0</td>\n",
       "    </tr>\n",
       "  </tbody>\n",
       "</table>\n",
       "<p>243 rows × 66 columns</p>\n",
       "</div>"
      ],
      "text/plain": [
       "           Date   FIPS  MMWR_week   Recip_County Recip_State  \\\n",
       "0    03/22/2022  16013         12  Blaine County          ID   \n",
       "1    03/21/2022  16013         12  Blaine County          ID   \n",
       "2    03/20/2022  16013         12  Blaine County          ID   \n",
       "3    03/19/2022  16013         11  Blaine County          ID   \n",
       "4    03/18/2022  16013         11  Blaine County          ID   \n",
       "..          ...    ...        ...            ...         ...   \n",
       "238  01/05/2022  16001          1     Ada County          ID   \n",
       "239  01/04/2022  16001          1     Ada County          ID   \n",
       "240  01/03/2022  16001          1     Ada County          ID   \n",
       "241  01/02/2022  16001          0     Ada County          ID   \n",
       "242  01/01/2022  16001          0     Ada County          ID   \n",
       "\n",
       "     Completeness_pct  Administered_Dose1_Recip  Administered_Dose1_Pop_Pct  \\\n",
       "0                97.8                   21501.0                        93.4   \n",
       "1                97.8                   21499.0                        93.4   \n",
       "2                97.8                   21499.0                        93.4   \n",
       "3                97.8                   21497.0                        93.4   \n",
       "4                97.8                   21492.0                        93.4   \n",
       "..                ...                       ...                         ...   \n",
       "238              97.6                  289931.0                        60.2   \n",
       "239              97.6                  289745.0                        60.2   \n",
       "240              97.6                  289299.0                        60.1   \n",
       "241              97.6                  289286.0                        60.1   \n",
       "242              97.6                  289286.0                        60.1   \n",
       "\n",
       "     Administered_Dose1_Recip_5Plus  Administered_Dose1_Recip_5PlusPop_Pct  \\\n",
       "0                           21500.0                                   95.0   \n",
       "1                           21498.0                                   95.0   \n",
       "2                           21498.0                                   95.0   \n",
       "3                           21496.0                                   95.0   \n",
       "4                           21491.0                                   95.0   \n",
       "..                              ...                                    ...   \n",
       "238                             NaN                                    NaN   \n",
       "239                             NaN                                    NaN   \n",
       "240                             NaN                                    NaN   \n",
       "241                             NaN                                    NaN   \n",
       "242                             NaN                                    NaN   \n",
       "\n",
       "     ...  Booster_Doses_Vax_Pct_UR_Equity  \\\n",
       "0    ...                              NaN   \n",
       "1    ...                              NaN   \n",
       "2    ...                              NaN   \n",
       "3    ...                              NaN   \n",
       "4    ...                              NaN   \n",
       "..   ...                              ...   \n",
       "238  ...                              NaN   \n",
       "239  ...                              NaN   \n",
       "240  ...                              NaN   \n",
       "241  ...                              NaN   \n",
       "242  ...                              NaN   \n",
       "\n",
       "     Booster_Doses_12PlusVax_Pct_UR_Equity  \\\n",
       "0                                      NaN   \n",
       "1                                      NaN   \n",
       "2                                      NaN   \n",
       "3                                      NaN   \n",
       "4                                      NaN   \n",
       "..                                     ...   \n",
       "238                                    NaN   \n",
       "239                                    NaN   \n",
       "240                                    NaN   \n",
       "241                                    NaN   \n",
       "242                                    NaN   \n",
       "\n",
       "     Booster_Doses_18PlusVax_Pct_UR_Equity  \\\n",
       "0                                      NaN   \n",
       "1                                      NaN   \n",
       "2                                      NaN   \n",
       "3                                      NaN   \n",
       "4                                      NaN   \n",
       "..                                     ...   \n",
       "238                                    NaN   \n",
       "239                                    NaN   \n",
       "240                                    NaN   \n",
       "241                                    NaN   \n",
       "242                                    NaN   \n",
       "\n",
       "     Booster_Doses_65PlusVax_Pct_UR_Equity  Census2019  Census2019_5PlusPop  \\\n",
       "0                                      NaN     23021.0              21922.0   \n",
       "1                                      NaN     23021.0              21922.0   \n",
       "2                                      NaN     23021.0              21922.0   \n",
       "3                                      NaN     23021.0              21922.0   \n",
       "4                                      NaN     23021.0              21922.0   \n",
       "..                                     ...         ...                  ...   \n",
       "238                                    NaN    481587.0             454456.0   \n",
       "239                                    NaN    481587.0             454456.0   \n",
       "240                                    NaN    481587.0             454456.0   \n",
       "241                                    NaN    481587.0             454456.0   \n",
       "242                                    NaN    481587.0             454456.0   \n",
       "\n",
       "     Census2019_5to17Pop  Census2019_12PlusPop  Census2019_18PlusPop  \\\n",
       "0                    NaN               20109.0               18163.0   \n",
       "1                    NaN               20109.0               18163.0   \n",
       "2                    NaN               20109.0               18163.0   \n",
       "3                    NaN               20109.0               18163.0   \n",
       "4                    NaN               20109.0               18163.0   \n",
       "..                   ...                   ...                   ...   \n",
       "238                  NaN              410672.0              369857.0   \n",
       "239                  NaN              410672.0              369857.0   \n",
       "240                  NaN              410672.0              369857.0   \n",
       "241                  NaN              410672.0              369857.0   \n",
       "242                  NaN              410672.0              369857.0   \n",
       "\n",
       "     Census2019_65PlusPop  \n",
       "0                  4683.0  \n",
       "1                  4683.0  \n",
       "2                  4683.0  \n",
       "3                  4683.0  \n",
       "4                  4683.0  \n",
       "..                    ...  \n",
       "238               71958.0  \n",
       "239               71958.0  \n",
       "240               71958.0  \n",
       "241               71958.0  \n",
       "242               71958.0  \n",
       "\n",
       "[243 rows x 66 columns]"
      ]
     },
     "execution_count": 7,
     "metadata": {},
     "output_type": "execute_result"
    }
   ],
   "source": [
    "df_filter_vax = pd.DataFrame(lst_filter_vax, columns = df_vax.columns)\n",
    "df_filter_vax"
   ]
  },
  {
   "cell_type": "code",
   "execution_count": 8,
   "id": "bb4a716a-ef34-473e-8253-37aa1f5c42a1",
   "metadata": {},
   "outputs": [],
   "source": [
    "days = days_of_months_printer_ww(1, 31) + days_of_months_printer_ww(2, 28) + days_of_months_printer_ww(3, 22)\n",
    "col_relevant = ['countyFIPS', 'County Name', 'State'] + days\n",
    "df_filter_cases = df_cases.loc[(df_cases['countyFIPS'].isin(fips_to_analyse))][col_relevant]"
   ]
  },
  {
   "cell_type": "code",
   "execution_count": 9,
   "id": "0f2245fa-00a9-4cc4-b044-58570a744801",
   "metadata": {},
   "outputs": [
    {
     "data": {
      "text/html": [
       "<div>\n",
       "<style scoped>\n",
       "    .dataframe tbody tr th:only-of-type {\n",
       "        vertical-align: middle;\n",
       "    }\n",
       "\n",
       "    .dataframe tbody tr th {\n",
       "        vertical-align: top;\n",
       "    }\n",
       "\n",
       "    .dataframe thead th {\n",
       "        text-align: right;\n",
       "    }\n",
       "</style>\n",
       "<table border=\"1\" class=\"dataframe\">\n",
       "  <thead>\n",
       "    <tr style=\"text-align: right;\">\n",
       "      <th></th>\n",
       "      <th>countyFIPS</th>\n",
       "      <th>County Name</th>\n",
       "      <th>State</th>\n",
       "      <th>2022-01-01</th>\n",
       "      <th>2022-01-02</th>\n",
       "      <th>2022-01-03</th>\n",
       "      <th>2022-01-04</th>\n",
       "      <th>2022-01-05</th>\n",
       "      <th>2022-01-06</th>\n",
       "      <th>2022-01-07</th>\n",
       "      <th>...</th>\n",
       "      <th>2022-03-13</th>\n",
       "      <th>2022-03-14</th>\n",
       "      <th>2022-03-15</th>\n",
       "      <th>2022-03-16</th>\n",
       "      <th>2022-03-17</th>\n",
       "      <th>2022-03-18</th>\n",
       "      <th>2022-03-19</th>\n",
       "      <th>2022-03-20</th>\n",
       "      <th>2022-03-21</th>\n",
       "      <th>2022-03-22</th>\n",
       "    </tr>\n",
       "  </thead>\n",
       "  <tbody>\n",
       "    <tr>\n",
       "      <th>564</th>\n",
       "      <td>16001</td>\n",
       "      <td>Ada County</td>\n",
       "      <td>ID</td>\n",
       "      <td>89225</td>\n",
       "      <td>89225</td>\n",
       "      <td>89225</td>\n",
       "      <td>90151</td>\n",
       "      <td>90630</td>\n",
       "      <td>91092</td>\n",
       "      <td>91221</td>\n",
       "      <td>...</td>\n",
       "      <td>131990</td>\n",
       "      <td>132050</td>\n",
       "      <td>132164</td>\n",
       "      <td>132307</td>\n",
       "      <td>132488</td>\n",
       "      <td>132599</td>\n",
       "      <td>132599</td>\n",
       "      <td>132599</td>\n",
       "      <td>132727</td>\n",
       "      <td>132836</td>\n",
       "    </tr>\n",
       "    <tr>\n",
       "      <th>570</th>\n",
       "      <td>16013</td>\n",
       "      <td>Blaine County</td>\n",
       "      <td>ID</td>\n",
       "      <td>3540</td>\n",
       "      <td>3540</td>\n",
       "      <td>3540</td>\n",
       "      <td>3713</td>\n",
       "      <td>3780</td>\n",
       "      <td>3953</td>\n",
       "      <td>4025</td>\n",
       "      <td>...</td>\n",
       "      <td>5750</td>\n",
       "      <td>5806</td>\n",
       "      <td>5841</td>\n",
       "      <td>5894</td>\n",
       "      <td>5909</td>\n",
       "      <td>5930</td>\n",
       "      <td>5930</td>\n",
       "      <td>5930</td>\n",
       "      <td>5939</td>\n",
       "      <td>5944</td>\n",
       "    </tr>\n",
       "    <tr>\n",
       "      <th>605</th>\n",
       "      <td>16083</td>\n",
       "      <td>Twin Falls County</td>\n",
       "      <td>ID</td>\n",
       "      <td>17042</td>\n",
       "      <td>17042</td>\n",
       "      <td>17042</td>\n",
       "      <td>17119</td>\n",
       "      <td>17185</td>\n",
       "      <td>17294</td>\n",
       "      <td>17337</td>\n",
       "      <td>...</td>\n",
       "      <td>22960</td>\n",
       "      <td>23334</td>\n",
       "      <td>23492</td>\n",
       "      <td>23663</td>\n",
       "      <td>23730</td>\n",
       "      <td>23823</td>\n",
       "      <td>23823</td>\n",
       "      <td>23823</td>\n",
       "      <td>23940</td>\n",
       "      <td>23967</td>\n",
       "    </tr>\n",
       "  </tbody>\n",
       "</table>\n",
       "<p>3 rows × 84 columns</p>\n",
       "</div>"
      ],
      "text/plain": [
       "     countyFIPS         County Name State  2022-01-01  2022-01-02  2022-01-03  \\\n",
       "564       16001         Ada County     ID       89225       89225       89225   \n",
       "570       16013      Blaine County     ID        3540        3540        3540   \n",
       "605       16083  Twin Falls County     ID       17042       17042       17042   \n",
       "\n",
       "     2022-01-04  2022-01-05  2022-01-06  2022-01-07  ...  2022-03-13  \\\n",
       "564       90151       90630       91092       91221  ...      131990   \n",
       "570        3713        3780        3953        4025  ...        5750   \n",
       "605       17119       17185       17294       17337  ...       22960   \n",
       "\n",
       "     2022-03-14  2022-03-15  2022-03-16  2022-03-17  2022-03-18  2022-03-19  \\\n",
       "564      132050      132164      132307      132488      132599      132599   \n",
       "570        5806        5841        5894        5909        5930        5930   \n",
       "605       23334       23492       23663       23730       23823       23823   \n",
       "\n",
       "     2022-03-20  2022-03-21  2022-03-22  \n",
       "564      132599      132727      132836  \n",
       "570        5930        5939        5944  \n",
       "605       23823       23940       23967  \n",
       "\n",
       "[3 rows x 84 columns]"
      ]
     },
     "execution_count": 9,
     "metadata": {},
     "output_type": "execute_result"
    }
   ],
   "source": [
    "df_filter_cases"
   ]
  },
  {
   "cell_type": "code",
   "execution_count": 10,
   "id": "22c28ba0-2cdb-4e24-b347-0ba1e8136bdc",
   "metadata": {},
   "outputs": [],
   "source": [
    "#Blaine\n",
    "population = df_pop.loc[df_pop['countyFIPS'] == 16013]['population'].values[0]\n",
    "vax_full = list(df_filter_vax.loc[df_filter_vax['FIPS'] == '16013']['Series_Complete_Pop_Pct'])\n",
    "vax_full = list(reversed(vax_full))\n",
    "cases_per_capita = list(df_filter_cases.loc[df_filter_cases['countyFIPS'] == 16013][days].values[0])"
   ]
  },
  {
   "cell_type": "code",
   "execution_count": 11,
   "id": "365ac034-c3e7-4b84-8a9e-01df1ba69bc8",
   "metadata": {},
   "outputs": [
    {
     "data": {
      "image/png": "[encoded data removed]",
      "text/plain": [
       "<Figure size 432x288 with 1 Axes>"
      ]
     },
     "metadata": {
      "needs_background": "light"
     },
     "output_type": "display_data"
    }
   ],
   "source": [
    "plt.title(\"Blaine County\")\n",
    "plt.ylabel(\"Total cases\")\n",
    "plt.xlabel(\"Dates\")\n",
    "plt.plot(days,cases_per_capita)\n",
    "plt.xticks(['2022-01-01', '2022-01-25', '2022-03-22'])\n",
    "plt.show()"
   ]
  },
  {
   "cell_type": "code",
   "execution_count": 12,
   "id": "c156f5e2-54b6-47bc-81a5-57fb3db2b063",
   "metadata": {},
   "outputs": [
    {
     "data": {
      "image/png": "[encoded data removed]",
      "text/plain": [
       "<Figure size 432x288 with 1 Axes>"
      ]
     },
     "metadata": {
      "needs_background": "light"
     },
     "output_type": "display_data"
    }
   ],
   "source": [
    "plt.title(\"Blaine County\")\n",
    "plt.ylabel(\"Percentage of fully vaccinated\")\n",
    "plt.xlabel(\"Dates\")\n",
    "plt.plot(days,vax_full)\n",
    "plt.xticks(['2022-01-01', '2022-01-24', '2022-03-22'])\n",
    "plt.show()"
   ]
  },
  {
   "cell_type": "code",
   "execution_count": 13,
   "id": "a6e4819a-3cb2-4dd0-af82-741d453342d7",
   "metadata": {},
   "outputs": [],
   "source": [
    "#Twin Falls County\n",
    "population = df_pop.loc[df_pop['countyFIPS'] == 16083]['population'].values[0]\n",
    "vax_full = list(df_filter_vax.loc[df_filter_vax['FIPS'] == '16083']['Series_Complete_Pop_Pct'])\n",
    "vax_full = list(reversed(vax_full))\n",
    "cases_per_capita = list(df_filter_cases.loc[df_filter_cases['countyFIPS'] == 16083][days].values[0])"
   ]
  },
  {
   "cell_type": "code",
   "execution_count": 14,
   "id": "9dd78dc3-9a68-4cb4-ba7c-19efca94e310",
   "metadata": {},
   "outputs": [
    {
     "data": {
      "image/png": "[encoded data removed]",
      "text/plain": [
       "<Figure size 432x288 with 1 Axes>"
      ]
     },
     "metadata": {
      "needs_background": "light"
     },
     "output_type": "display_data"
    }
   ],
   "source": [
    "plt.title(\"Twin Falls County\")\n",
    "plt.ylabel(\"Total cases\")\n",
    "plt.xlabel(\"Dates\")\n",
    "plt.plot(days,cases_per_capita)\n",
    "plt.xticks(['2022-01-01', '2022-01-25', '2022-03-22'])\n",
    "plt.show()"
   ]
  },
  {
   "cell_type": "code",
   "execution_count": 15,
   "id": "42e30f62-f579-497c-9ce9-f7647a102040",
   "metadata": {
    "tags": []
   },
   "outputs": [
    {
     "data": {
      "image/png": "[encoded data removed]",
      "text/plain": [
       "<Figure size 432x288 with 1 Axes>"
      ]
     },
     "metadata": {
      "needs_background": "light"
     },
     "output_type": "display_data"
    }
   ],
   "source": [
    "plt.title(\"Twin Falls County\")\n",
    "plt.ylabel(\"Percentage of fully vaccinated\")\n",
    "plt.xlabel(\"Dates\")\n",
    "plt.plot(days,vax_full)\n",
    "plt.xticks(['2022-01-01', '2022-01-25', '2022-03-22'])\n",
    "plt.show()"
   ]
  },
  {
   "cell_type": "code",
   "execution_count": 16,
   "id": "0bd08c98-9177-4e3d-9a49-9998d7a20c0e",
   "metadata": {},
   "outputs": [],
   "source": [
    "#Ada County\n",
    "population = df_pop.loc[df_pop['countyFIPS'] == 16001]['population'].values[0]\n",
    "vax_full = list(df_filter_vax.loc[df_filter_vax['FIPS'] == '16001']['Series_Complete_Pop_Pct'])\n",
    "vax_full = list(reversed(vax_full))\n",
    "cases_per_capita = list(df_filter_cases.loc[df_filter_cases['countyFIPS'] == 16001][days].values[0])"
   ]
  },
  {
   "cell_type": "code",
   "execution_count": 17,
   "id": "e77feef1-7597-4a4b-a7ea-1c0f70e07396",
   "metadata": {},
   "outputs": [
    {
     "data": {
      "image/png": "[encoded data removed]",
      "text/plain": [
       "<Figure size 432x288 with 1 Axes>"
      ]
     },
     "metadata": {
      "needs_background": "light"
     },
     "output_type": "display_data"
    }
   ],
   "source": [
    "plt.plot(days,cases_per_capita)\n",
    "plt.xticks(['2022-01-01', '2022-01-25', '2022-03-22'])\n",
    "plt.show()"
   ]
  },
  {
   "cell_type": "code",
   "execution_count": 18,
   "id": "23082b07-b718-42b6-a96b-d41b5ed4ddf7",
   "metadata": {},
   "outputs": [
    {
     "data": {
      "image/png": "[encoded data removed]",
      "text/plain": [
       "<Figure size 432x288 with 1 Axes>"
      ]
     },
     "metadata": {
      "needs_background": "light"
     },
     "output_type": "display_data"
    }
   ],
   "source": [
    "plt.plot(days,vax_full)\n",
    "plt.xticks(['2022-01-01', '2022-01-24', '2022-03-22'])\n",
    "plt.show()"
   ]
  },
  {
   "cell_type": "markdown",
   "id": "6d547976-dd3c-472a-b528-8a61f44ffd82",
   "metadata": {},
   "source": [
    "### Charlottesville and Albemarle counties"
   ]
  },
  {
   "cell_type": "code",
   "execution_count": 19,
   "id": "b0b07875-1e28-4ee4-90a8-002240e7b6b5",
   "metadata": {},
   "outputs": [],
   "source": [
    "counties_to_analyse = ['Charlottesville County', 'Albemarle County']\n",
    "fips_to_analyse = [51540, 51003]"
   ]
  },
  {
   "cell_type": "code",
   "execution_count": 20,
   "id": "06b6f10e-afed-482a-acf3-e3564167e4a6",
   "metadata": {},
   "outputs": [
    {
     "data": {
      "text/html": [
       "<div>\n",
       "<style scoped>\n",
       "    .dataframe tbody tr th:only-of-type {\n",
       "        vertical-align: middle;\n",
       "    }\n",
       "\n",
       "    .dataframe tbody tr th {\n",
       "        vertical-align: top;\n",
       "    }\n",
       "\n",
       "    .dataframe thead th {\n",
       "        text-align: right;\n",
       "    }\n",
       "</style>\n",
       "<table border=\"1\" class=\"dataframe\">\n",
       "  <thead>\n",
       "    <tr style=\"text-align: right;\">\n",
       "      <th></th>\n",
       "      <th>countyFIPS</th>\n",
       "      <th>County Name</th>\n",
       "      <th>State</th>\n",
       "      <th>2022-01-01</th>\n",
       "      <th>2022-01-02</th>\n",
       "      <th>2022-01-03</th>\n",
       "      <th>2022-01-04</th>\n",
       "      <th>2022-01-05</th>\n",
       "      <th>2022-01-06</th>\n",
       "      <th>2022-01-07</th>\n",
       "      <th>...</th>\n",
       "      <th>2022-03-30</th>\n",
       "      <th>2022-03-31</th>\n",
       "      <th>2022-04-01</th>\n",
       "      <th>2022-04-02</th>\n",
       "      <th>2022-04-03</th>\n",
       "      <th>2022-04-04</th>\n",
       "      <th>2022-04-05</th>\n",
       "      <th>2022-04-06</th>\n",
       "      <th>2022-04-07</th>\n",
       "      <th>2022-04-08</th>\n",
       "    </tr>\n",
       "  </thead>\n",
       "  <tbody>\n",
       "    <tr>\n",
       "      <th>2868</th>\n",
       "      <td>51003</td>\n",
       "      <td>Albemarle County</td>\n",
       "      <td>VA</td>\n",
       "      <td>9744</td>\n",
       "      <td>9744</td>\n",
       "      <td>10094</td>\n",
       "      <td>10219</td>\n",
       "      <td>10299</td>\n",
       "      <td>10455</td>\n",
       "      <td>10586</td>\n",
       "      <td>...</td>\n",
       "      <td>16361</td>\n",
       "      <td>16423</td>\n",
       "      <td>16533</td>\n",
       "      <td>16533</td>\n",
       "      <td>16533</td>\n",
       "      <td>16693</td>\n",
       "      <td>16784</td>\n",
       "      <td>16885</td>\n",
       "      <td>16885</td>\n",
       "      <td>16885</td>\n",
       "    </tr>\n",
       "    <tr>\n",
       "      <th>2965</th>\n",
       "      <td>51540</td>\n",
       "      <td>City of Charlottesville</td>\n",
       "      <td>VA</td>\n",
       "      <td>6225</td>\n",
       "      <td>6225</td>\n",
       "      <td>6437</td>\n",
       "      <td>6518</td>\n",
       "      <td>6569</td>\n",
       "      <td>6683</td>\n",
       "      <td>6823</td>\n",
       "      <td>...</td>\n",
       "      <td>9917</td>\n",
       "      <td>9881</td>\n",
       "      <td>9791</td>\n",
       "      <td>9791</td>\n",
       "      <td>9791</td>\n",
       "      <td>9726</td>\n",
       "      <td>9679</td>\n",
       "      <td>9575</td>\n",
       "      <td>9575</td>\n",
       "      <td>9575</td>\n",
       "    </tr>\n",
       "  </tbody>\n",
       "</table>\n",
       "<p>2 rows × 101 columns</p>\n",
       "</div>"
      ],
      "text/plain": [
       "      countyFIPS              County Name State  2022-01-01  2022-01-02  \\\n",
       "2868       51003        Albemarle County     VA        9744        9744   \n",
       "2965       51540  City of Charlottesville    VA        6225        6225   \n",
       "\n",
       "      2022-01-03  2022-01-04  2022-01-05  2022-01-06  2022-01-07  ...  \\\n",
       "2868       10094       10219       10299       10455       10586  ...   \n",
       "2965        6437        6518        6569        6683        6823  ...   \n",
       "\n",
       "      2022-03-30  2022-03-31  2022-04-01  2022-04-02  2022-04-03  2022-04-04  \\\n",
       "2868       16361       16423       16533       16533       16533       16693   \n",
       "2965        9917        9881        9791        9791        9791        9726   \n",
       "\n",
       "      2022-04-05  2022-04-06  2022-04-07  2022-04-08  \n",
       "2868       16784       16885       16885       16885  \n",
       "2965        9679        9575        9575        9575  \n",
       "\n",
       "[2 rows x 101 columns]"
      ]
     },
     "execution_count": 20,
     "metadata": {},
     "output_type": "execute_result"
    }
   ],
   "source": [
    "days = days_of_months_printer_ww(1, 31) + days_of_months_printer_ww(2, 28) + days_of_months_printer_ww(3, 31) + days_of_months_printer_ww(4, 8)\n",
    "col_relevant = ['countyFIPS', 'County Name', 'State'] + days\n",
    "df_filter_cases = df_cases.loc[(df_cases['countyFIPS'].isin(fips_to_analyse))][col_relevant]\n",
    "df_filter_cases"
   ]
  },
  {
   "cell_type": "code",
   "execution_count": 21,
   "id": "e31a08e7-2c03-4e89-ba4a-451536389dc5",
   "metadata": {},
   "outputs": [
    {
     "data": {
      "image/png": "[encoded data removed]",
      "text/plain": [
       "<Figure size 432x288 with 1 Axes>"
      ]
     },
     "metadata": {
      "needs_background": "light"
     },
     "output_type": "display_data"
    }
   ],
   "source": [
    "for idx, f in enumerate(fips_to_analyse):\n",
    "    population = df_pop.loc[df_pop['countyFIPS'] == f]['population'].values[0]\n",
    "    cases = list(df_filter_cases.loc[df_filter_cases['countyFIPS'] == f][days].values[0])\n",
    "    cases_per_capita = list(df_filter_cases.loc[df_filter_cases['countyFIPS'] == f][days].values[0]/float(df_pop.loc[(df_pop['countyFIPS'].isin([f]))]['population']))\n",
    "    plt.plot(days,cases, label=counties_to_analyse[idx])\n",
    "plt.title(\"Charlottesville and Albemarle counties\", fontsize=20)\n",
    "plt.ylabel(\"Total cases\", fontsize=16)\n",
    "plt.xlabel(\"Dates\", fontsize=16)\n",
    "plt.xticks(['2022-01-01', '2022-03-20', '2022-04-08'], fontsize=12)\n",
    "plt.legend(fontsize=12)\n",
    "#plt.rcParams[\"figure.figsize\"] = (14,9)\n",
    "plt.rcParams[\"figure.figsize\"] = (8,6)\n",
    "plt.show()"
   ]
  },
  {
   "cell_type": "code",
   "execution_count": 22,
   "id": "3bffbbf2-cb88-466f-8e38-1ef3523532a1",
   "metadata": {},
   "outputs": [
    {
     "data": {
      "image/png": "[encoded data removed]",
      "text/plain": [
       "<Figure size 576x432 with 1 Axes>"
      ]
     },
     "metadata": {
      "needs_background": "light"
     },
     "output_type": "display_data"
    }
   ],
   "source": [
    "for idx, f in enumerate(fips_to_analyse):\n",
    "    population = df_pop.loc[df_pop['countyFIPS'] == f]['population'].values[0]\n",
    "    cases = list(df_filter_cases.loc[df_filter_cases['countyFIPS'] == f][days].values[0])\n",
    "    cases_per_capita = list(df_filter_cases.loc[df_filter_cases['countyFIPS'] == f][days].values[0]/float(df_pop.loc[(df_pop['countyFIPS'].isin([f]))]['population']))\n",
    "    plt.plot(days,cases_per_capita, label=counties_to_analyse[idx])\n",
    "plt.title(\"Charlottesville and Albemarle counties\", fontsize=20)\n",
    "plt.ylabel(\"Total cases per capita\", fontsize=16)\n",
    "plt.xlabel(\"Dates\", fontsize=16)\n",
    "plt.xticks(['2022-01-01', '2022-04-09'], fontsize=12)\n",
    "plt.legend(fontsize=12)\n",
    "#plt.rcParams[\"figure.figsize\"] = (14,9)\n",
    "plt.rcParams[\"figure.figsize\"] = (8,6)\n",
    "plt.show()"
   ]
  },
  {
   "cell_type": "code",
   "execution_count": 23,
   "id": "01979af7-3e93-445f-bf54-b38d94a8f87c",
   "metadata": {},
   "outputs": [],
   "source": [
    "days = days_of_months_printer(11, 30, 2021)[14:] + days_of_months_printer(12, 31, 2021) + days_of_months_printer(1, 31) + days_of_months_printer(2, 28) + days_of_months_printer(3, 31) + days_of_months_printer(4, 8)\n",
    "#days = days_of_months_printer(1, 31)\n",
    "lst_filter_vax = []\n",
    "for fips in fips_to_analyse:\n",
    "    fips_f = '0' * (5 - len(str(fips))) + str(fips)\n",
    "    lst_filter_vax.extend(df_vax.loc[(df_vax['FIPS'] == fips_f) & (df_vax['Date'].isin(days))].values.tolist())"
   ]
  },
  {
   "cell_type": "code",
   "execution_count": 24,
   "id": "a93869b7-f319-40a8-8f61-4e16e769d76c",
   "metadata": {},
   "outputs": [],
   "source": [
    "df_filter_vax = pd.DataFrame(lst_filter_vax, columns = df_vax.columns)"
   ]
  },
  {
   "cell_type": "code",
   "execution_count": 25,
   "id": "f1160640-3ebf-49b1-8ced-d8ada3fc03df",
   "metadata": {},
   "outputs": [
    {
     "data": {
      "image/png": "[encoded data removed]",
      "text/plain": [
       "<Figure size 576x432 with 1 Axes>"
      ]
     },
     "metadata": {
      "needs_background": "light"
     },
     "output_type": "display_data"
    }
   ],
   "source": [
    "days = days_of_months_printer_ww(11, 30, 2021)[14:] + days_of_months_printer_ww(12, 31, 2021) + days_of_months_printer_ww(1, 31) + days_of_months_printer_ww(2, 28) + days_of_months_printer_ww(3, 31) + days_of_months_printer_ww(4, 8)\n",
    "#days = days_of_months_printer_ww(1, 31)\n",
    "for idx, f in enumerate(fips_to_analyse):\n",
    "    population = df_pop.loc[df_pop['countyFIPS'] == f]['population'].values[0]\n",
    "    vax_full = list(df_filter_vax.loc[df_filter_vax['FIPS'] == str(f)]['Series_Complete_Pop_Pct'])\n",
    "    vax_full = list(reversed(vax_full))\n",
    "    plt.scatter(days,vax_full, label=counties_to_analyse[idx])\n",
    "plt.title(\"Charlottesville and Albemarle counties\", fontsize=20)\n",
    "plt.ylabel(\"Percentage of fully vaccinated\", fontsize=16)\n",
    "plt.xlabel(\"Dates\", fontsize=16)\n",
    "#plt.xticks(['2021-11-15', '2022-01-01', '2022-04-09'], fontsize=12)\n",
    "plt.xticks(['2022-01-19'], fontsize=12)\n",
    "plt.legend(fontsize=12)\n",
    "#plt.rcParams[\"figure.figsize\"] = (14,9)\n",
    "plt.rcParams[\"figure.figsize\"] = (8,6)\n",
    "plt.show()"
   ]
  },
  {
   "cell_type": "code",
   "execution_count": 26,
   "id": "e6d107b3-6dd8-4caa-9cc4-b8d5e160f66b",
   "metadata": {},
   "outputs": [
    {
     "ename": "KeyError",
     "evalue": "\"['2021-12-12', '2021-12-03', '2021-12-06', '2021-12-20', '2021-12-02', '2021-12-15', '2021-12-14', '2021-11-26', '2021-11-20', '2021-12-16', '2021-12-08', '2021-11-30', '2021-11-22', '2021-11-24', '2021-12-30', '2021-12-29', '2021-12-27', '2021-12-28', '2021-12-17', '2021-11-29', '2021-12-05', '2021-12-09', '2021-11-16', '2021-11-28', '2021-12-18', '2021-12-22', '2021-12-19', '2021-12-10', '2021-12-11', '2021-11-21', '2021-11-23', '2021-12-23', '2021-11-25', '2021-11-15', '2021-12-07', '2021-12-01', '2021-11-18', '2021-12-25', '2021-12-31', '2021-11-27', '2021-12-04', '2021-12-26', '2021-12-24', '2021-11-19', '2021-11-17', '2021-12-13', '2021-12-21'] not in index\"",
     "output_type": "error",
     "traceback": [
      "\u001b[0;31m---------------------------------------------------------------------------\u001b[0m",
      "\u001b[0;31mKeyError\u001b[0m                                  Traceback (most recent call last)",
      "\u001b[0;32m<ipython-input-26-380ec2cd1e7f>\u001b[0m in \u001b[0;36m<module>\u001b[0;34m\u001b[0m\n\u001b[1;32m      2\u001b[0m \u001b[0mvax_full\u001b[0m \u001b[0;34m=\u001b[0m \u001b[0mlist\u001b[0m\u001b[0;34m(\u001b[0m\u001b[0mdf_filter_vax\u001b[0m\u001b[0;34m.\u001b[0m\u001b[0mloc\u001b[0m\u001b[0;34m[\u001b[0m\u001b[0mdf_filter_vax\u001b[0m\u001b[0;34m[\u001b[0m\u001b[0;34m'FIPS'\u001b[0m\u001b[0;34m]\u001b[0m \u001b[0;34m==\u001b[0m \u001b[0mstr\u001b[0m\u001b[0;34m(\u001b[0m\u001b[0mfips_to_analyse\u001b[0m\u001b[0;34m[\u001b[0m\u001b[0;36m0\u001b[0m\u001b[0;34m]\u001b[0m\u001b[0;34m)\u001b[0m\u001b[0;34m]\u001b[0m\u001b[0;34m[\u001b[0m\u001b[0;34m'Series_Complete_Pop_Pct'\u001b[0m\u001b[0;34m]\u001b[0m\u001b[0;34m)\u001b[0m\u001b[0;34m\u001b[0m\u001b[0;34m\u001b[0m\u001b[0m\n\u001b[1;32m      3\u001b[0m \u001b[0mvax_full\u001b[0m \u001b[0;34m=\u001b[0m \u001b[0mlist\u001b[0m\u001b[0;34m(\u001b[0m\u001b[0mreversed\u001b[0m\u001b[0;34m(\u001b[0m\u001b[0mvax_full\u001b[0m\u001b[0;34m)\u001b[0m\u001b[0;34m)\u001b[0m\u001b[0;34m\u001b[0m\u001b[0;34m\u001b[0m\u001b[0m\n\u001b[0;32m----> 4\u001b[0;31m \u001b[0mcases_per_capita\u001b[0m \u001b[0;34m=\u001b[0m \u001b[0mlist\u001b[0m\u001b[0;34m(\u001b[0m\u001b[0mdf_filter_cases\u001b[0m\u001b[0;34m.\u001b[0m\u001b[0mloc\u001b[0m\u001b[0;34m[\u001b[0m\u001b[0mdf_filter_cases\u001b[0m\u001b[0;34m[\u001b[0m\u001b[0;34m'countyFIPS'\u001b[0m\u001b[0;34m]\u001b[0m \u001b[0;34m==\u001b[0m \u001b[0mfips_to_analyse\u001b[0m\u001b[0;34m[\u001b[0m\u001b[0;36m0\u001b[0m\u001b[0;34m]\u001b[0m\u001b[0;34m]\u001b[0m\u001b[0;34m[\u001b[0m\u001b[0mdays\u001b[0m\u001b[0;34m]\u001b[0m\u001b[0;34m.\u001b[0m\u001b[0mvalues\u001b[0m\u001b[0;34m[\u001b[0m\u001b[0;36m0\u001b[0m\u001b[0;34m]\u001b[0m\u001b[0;34m)\u001b[0m\u001b[0;34m\u001b[0m\u001b[0;34m\u001b[0m\u001b[0m\n\u001b[0m\u001b[1;32m      5\u001b[0m \u001b[0mplt\u001b[0m\u001b[0;34m.\u001b[0m\u001b[0mplot\u001b[0m\u001b[0;34m(\u001b[0m\u001b[0mdays\u001b[0m\u001b[0;34m,\u001b[0m\u001b[0mvax_full\u001b[0m\u001b[0;34m,\u001b[0m \u001b[0mlabel\u001b[0m\u001b[0;34m=\u001b[0m\u001b[0mcounties_to_analyse\u001b[0m\u001b[0;34m[\u001b[0m\u001b[0;36m0\u001b[0m\u001b[0;34m]\u001b[0m\u001b[0;34m)\u001b[0m\u001b[0;34m\u001b[0m\u001b[0;34m\u001b[0m\u001b[0m\n\u001b[1;32m      6\u001b[0m \u001b[0mplt\u001b[0m\u001b[0;34m.\u001b[0m\u001b[0mtitle\u001b[0m\u001b[0;34m(\u001b[0m\u001b[0;34m\"Charlottesville vaccination\"\u001b[0m\u001b[0;34m,\u001b[0m \u001b[0mfontsize\u001b[0m\u001b[0;34m=\u001b[0m\u001b[0;36m20\u001b[0m\u001b[0;34m)\u001b[0m\u001b[0;34m\u001b[0m\u001b[0;34m\u001b[0m\u001b[0m\n",
      "\u001b[0;32m~/anaconda3/lib/python3.8/site-packages/pandas/core/frame.py\u001b[0m in \u001b[0;36m__getitem__\u001b[0;34m(self, key)\u001b[0m\n\u001b[1;32m   3028\u001b[0m             \u001b[0;32mif\u001b[0m \u001b[0mis_iterator\u001b[0m\u001b[0;34m(\u001b[0m\u001b[0mkey\u001b[0m\u001b[0;34m)\u001b[0m\u001b[0;34m:\u001b[0m\u001b[0;34m\u001b[0m\u001b[0;34m\u001b[0m\u001b[0m\n\u001b[1;32m   3029\u001b[0m                 \u001b[0mkey\u001b[0m \u001b[0;34m=\u001b[0m \u001b[0mlist\u001b[0m\u001b[0;34m(\u001b[0m\u001b[0mkey\u001b[0m\u001b[0;34m)\u001b[0m\u001b[0;34m\u001b[0m\u001b[0;34m\u001b[0m\u001b[0m\n\u001b[0;32m-> 3030\u001b[0;31m             \u001b[0mindexer\u001b[0m \u001b[0;34m=\u001b[0m \u001b[0mself\u001b[0m\u001b[0;34m.\u001b[0m\u001b[0mloc\u001b[0m\u001b[0;34m.\u001b[0m\u001b[0m_get_listlike_indexer\u001b[0m\u001b[0;34m(\u001b[0m\u001b[0mkey\u001b[0m\u001b[0;34m,\u001b[0m \u001b[0maxis\u001b[0m\u001b[0;34m=\u001b[0m\u001b[0;36m1\u001b[0m\u001b[0;34m,\u001b[0m \u001b[0mraise_missing\u001b[0m\u001b[0;34m=\u001b[0m\u001b[0;32mTrue\u001b[0m\u001b[0;34m)\u001b[0m\u001b[0;34m[\u001b[0m\u001b[0;36m1\u001b[0m\u001b[0;34m]\u001b[0m\u001b[0;34m\u001b[0m\u001b[0;34m\u001b[0m\u001b[0m\n\u001b[0m\u001b[1;32m   3031\u001b[0m \u001b[0;34m\u001b[0m\u001b[0m\n\u001b[1;32m   3032\u001b[0m         \u001b[0;31m# take() does not accept boolean indexers\u001b[0m\u001b[0;34m\u001b[0m\u001b[0;34m\u001b[0m\u001b[0;34m\u001b[0m\u001b[0m\n",
      "\u001b[0;32m~/anaconda3/lib/python3.8/site-packages/pandas/core/indexing.py\u001b[0m in \u001b[0;36m_get_listlike_indexer\u001b[0;34m(self, key, axis, raise_missing)\u001b[0m\n\u001b[1;32m   1264\u001b[0m             \u001b[0mkeyarr\u001b[0m\u001b[0;34m,\u001b[0m \u001b[0mindexer\u001b[0m\u001b[0;34m,\u001b[0m \u001b[0mnew_indexer\u001b[0m \u001b[0;34m=\u001b[0m \u001b[0max\u001b[0m\u001b[0;34m.\u001b[0m\u001b[0m_reindex_non_unique\u001b[0m\u001b[0;34m(\u001b[0m\u001b[0mkeyarr\u001b[0m\u001b[0;34m)\u001b[0m\u001b[0;34m\u001b[0m\u001b[0;34m\u001b[0m\u001b[0m\n\u001b[1;32m   1265\u001b[0m \u001b[0;34m\u001b[0m\u001b[0m\n\u001b[0;32m-> 1266\u001b[0;31m         \u001b[0mself\u001b[0m\u001b[0;34m.\u001b[0m\u001b[0m_validate_read_indexer\u001b[0m\u001b[0;34m(\u001b[0m\u001b[0mkeyarr\u001b[0m\u001b[0;34m,\u001b[0m \u001b[0mindexer\u001b[0m\u001b[0;34m,\u001b[0m \u001b[0maxis\u001b[0m\u001b[0;34m,\u001b[0m \u001b[0mraise_missing\u001b[0m\u001b[0;34m=\u001b[0m\u001b[0mraise_missing\u001b[0m\u001b[0;34m)\u001b[0m\u001b[0;34m\u001b[0m\u001b[0;34m\u001b[0m\u001b[0m\n\u001b[0m\u001b[1;32m   1267\u001b[0m         \u001b[0;32mreturn\u001b[0m \u001b[0mkeyarr\u001b[0m\u001b[0;34m,\u001b[0m \u001b[0mindexer\u001b[0m\u001b[0;34m\u001b[0m\u001b[0;34m\u001b[0m\u001b[0m\n\u001b[1;32m   1268\u001b[0m \u001b[0;34m\u001b[0m\u001b[0m\n",
      "\u001b[0;32m~/anaconda3/lib/python3.8/site-packages/pandas/core/indexing.py\u001b[0m in \u001b[0;36m_validate_read_indexer\u001b[0;34m(self, key, indexer, axis, raise_missing)\u001b[0m\n\u001b[1;32m   1314\u001b[0m             \u001b[0;32mif\u001b[0m \u001b[0mraise_missing\u001b[0m\u001b[0;34m:\u001b[0m\u001b[0;34m\u001b[0m\u001b[0;34m\u001b[0m\u001b[0m\n\u001b[1;32m   1315\u001b[0m                 \u001b[0mnot_found\u001b[0m \u001b[0;34m=\u001b[0m \u001b[0mlist\u001b[0m\u001b[0;34m(\u001b[0m\u001b[0mset\u001b[0m\u001b[0;34m(\u001b[0m\u001b[0mkey\u001b[0m\u001b[0;34m)\u001b[0m \u001b[0;34m-\u001b[0m \u001b[0mset\u001b[0m\u001b[0;34m(\u001b[0m\u001b[0max\u001b[0m\u001b[0;34m)\u001b[0m\u001b[0;34m)\u001b[0m\u001b[0;34m\u001b[0m\u001b[0;34m\u001b[0m\u001b[0m\n\u001b[0;32m-> 1316\u001b[0;31m                 \u001b[0;32mraise\u001b[0m \u001b[0mKeyError\u001b[0m\u001b[0;34m(\u001b[0m\u001b[0;34mf\"{not_found} not in index\"\u001b[0m\u001b[0;34m)\u001b[0m\u001b[0;34m\u001b[0m\u001b[0;34m\u001b[0m\u001b[0m\n\u001b[0m\u001b[1;32m   1317\u001b[0m \u001b[0;34m\u001b[0m\u001b[0m\n\u001b[1;32m   1318\u001b[0m             \u001b[0mnot_found\u001b[0m \u001b[0;34m=\u001b[0m \u001b[0mkey\u001b[0m\u001b[0;34m[\u001b[0m\u001b[0mmissing_mask\u001b[0m\u001b[0;34m]\u001b[0m\u001b[0;34m\u001b[0m\u001b[0;34m\u001b[0m\u001b[0m\n",
      "\u001b[0;31mKeyError\u001b[0m: \"['2021-12-12', '2021-12-03', '2021-12-06', '2021-12-20', '2021-12-02', '2021-12-15', '2021-12-14', '2021-11-26', '2021-11-20', '2021-12-16', '2021-12-08', '2021-11-30', '2021-11-22', '2021-11-24', '2021-12-30', '2021-12-29', '2021-12-27', '2021-12-28', '2021-12-17', '2021-11-29', '2021-12-05', '2021-12-09', '2021-11-16', '2021-11-28', '2021-12-18', '2021-12-22', '2021-12-19', '2021-12-10', '2021-12-11', '2021-11-21', '2021-11-23', '2021-12-23', '2021-11-25', '2021-11-15', '2021-12-07', '2021-12-01', '2021-11-18', '2021-12-25', '2021-12-31', '2021-11-27', '2021-12-04', '2021-12-26', '2021-12-24', '2021-11-19', '2021-11-17', '2021-12-13', '2021-12-21'] not in index\""
     ]
    }
   ],
   "source": [
    "population = df_pop.loc[df_pop['countyFIPS'] == fips_to_analyse[0]]['population'].values[0]\n",
    "vax_full = list(df_filter_vax.loc[df_filter_vax['FIPS'] == str(fips_to_analyse[0])]['Series_Complete_Pop_Pct'])\n",
    "vax_full = list(reversed(vax_full))\n",
    "cases_per_capita = list(df_filter_cases.loc[df_filter_cases['countyFIPS'] == fips_to_analyse[0]][days].values[0])\n",
    "plt.plot(days,vax_full, label=counties_to_analyse[0])\n",
    "plt.title(\"Charlottesville vaccination\", fontsize=20)\n",
    "plt.ylabel(\"Percentage of fully vaccinated\", fontsize=16)\n",
    "plt.xlabel(\"Dates\", fontsize=16)\n",
    "plt.xticks(['2022-01-01', '2022-01-', '2022-04-09'], fontsize=12)\n",
    "plt.legend(fontsize=12)\n",
    "plt.rcParams[\"figure.figsize\"] = (8,6)\n",
    "plt.show()"
   ]
  },
  {
   "cell_type": "code",
   "execution_count": 27,
   "id": "1fd41384-f856-422e-9baf-925d5d63cf85",
   "metadata": {},
   "outputs": [
    {
     "ename": "KeyError",
     "evalue": "\"['2021-12-12', '2021-12-03', '2021-12-06', '2021-12-20', '2021-12-02', '2021-12-15', '2021-12-14', '2021-11-26', '2021-11-20', '2021-12-16', '2021-12-08', '2021-11-30', '2021-11-22', '2021-11-24', '2021-12-30', '2021-12-29', '2021-12-27', '2021-12-28', '2021-12-17', '2021-11-29', '2021-12-05', '2021-12-09', '2021-11-16', '2021-11-28', '2021-12-18', '2021-12-22', '2021-12-19', '2021-12-10', '2021-12-11', '2021-11-21', '2021-11-23', '2021-12-23', '2021-11-25', '2021-11-15', '2021-12-07', '2021-12-01', '2021-11-18', '2021-12-25', '2021-12-31', '2021-11-27', '2021-12-04', '2021-12-26', '2021-12-24', '2021-11-19', '2021-11-17', '2021-12-13', '2021-12-21'] not in index\"",
     "output_type": "error",
     "traceback": [
      "\u001b[0;31m---------------------------------------------------------------------------\u001b[0m",
      "\u001b[0;31mKeyError\u001b[0m                                  Traceback (most recent call last)",
      "\u001b[0;32m<ipython-input-27-ba5b1421646a>\u001b[0m in \u001b[0;36m<module>\u001b[0;34m\u001b[0m\n\u001b[1;32m      2\u001b[0m \u001b[0mvax_full\u001b[0m \u001b[0;34m=\u001b[0m \u001b[0mlist\u001b[0m\u001b[0;34m(\u001b[0m\u001b[0mdf_filter_vax\u001b[0m\u001b[0;34m.\u001b[0m\u001b[0mloc\u001b[0m\u001b[0;34m[\u001b[0m\u001b[0mdf_filter_vax\u001b[0m\u001b[0;34m[\u001b[0m\u001b[0;34m'FIPS'\u001b[0m\u001b[0;34m]\u001b[0m \u001b[0;34m==\u001b[0m \u001b[0mstr\u001b[0m\u001b[0;34m(\u001b[0m\u001b[0mfips_to_analyse\u001b[0m\u001b[0;34m[\u001b[0m\u001b[0;36m1\u001b[0m\u001b[0;34m]\u001b[0m\u001b[0;34m)\u001b[0m\u001b[0;34m]\u001b[0m\u001b[0;34m[\u001b[0m\u001b[0;34m'Series_Complete_Pop_Pct'\u001b[0m\u001b[0;34m]\u001b[0m\u001b[0;34m)\u001b[0m\u001b[0;34m\u001b[0m\u001b[0;34m\u001b[0m\u001b[0m\n\u001b[1;32m      3\u001b[0m \u001b[0mvax_full\u001b[0m \u001b[0;34m=\u001b[0m \u001b[0mlist\u001b[0m\u001b[0;34m(\u001b[0m\u001b[0mreversed\u001b[0m\u001b[0;34m(\u001b[0m\u001b[0mvax_full\u001b[0m\u001b[0;34m)\u001b[0m\u001b[0;34m)\u001b[0m\u001b[0;34m\u001b[0m\u001b[0;34m\u001b[0m\u001b[0m\n\u001b[0;32m----> 4\u001b[0;31m \u001b[0mcases_per_capita\u001b[0m \u001b[0;34m=\u001b[0m \u001b[0mlist\u001b[0m\u001b[0;34m(\u001b[0m\u001b[0mdf_filter_cases\u001b[0m\u001b[0;34m.\u001b[0m\u001b[0mloc\u001b[0m\u001b[0;34m[\u001b[0m\u001b[0mdf_filter_cases\u001b[0m\u001b[0;34m[\u001b[0m\u001b[0;34m'countyFIPS'\u001b[0m\u001b[0;34m]\u001b[0m \u001b[0;34m==\u001b[0m \u001b[0mfips_to_analyse\u001b[0m\u001b[0;34m[\u001b[0m\u001b[0;36m1\u001b[0m\u001b[0;34m]\u001b[0m\u001b[0;34m]\u001b[0m\u001b[0;34m[\u001b[0m\u001b[0mdays\u001b[0m\u001b[0;34m]\u001b[0m\u001b[0;34m.\u001b[0m\u001b[0mvalues\u001b[0m\u001b[0;34m[\u001b[0m\u001b[0;36m0\u001b[0m\u001b[0;34m]\u001b[0m\u001b[0;34m)\u001b[0m\u001b[0;34m\u001b[0m\u001b[0;34m\u001b[0m\u001b[0m\n\u001b[0m\u001b[1;32m      5\u001b[0m \u001b[0mplt\u001b[0m\u001b[0;34m.\u001b[0m\u001b[0mplot\u001b[0m\u001b[0;34m(\u001b[0m\u001b[0mdays\u001b[0m\u001b[0;34m,\u001b[0m\u001b[0mvax_full\u001b[0m\u001b[0;34m,\u001b[0m \u001b[0mlabel\u001b[0m\u001b[0;34m=\u001b[0m\u001b[0mcounties_to_analyse\u001b[0m\u001b[0;34m[\u001b[0m\u001b[0;36m1\u001b[0m\u001b[0;34m]\u001b[0m\u001b[0;34m)\u001b[0m\u001b[0;34m\u001b[0m\u001b[0;34m\u001b[0m\u001b[0m\n\u001b[1;32m      6\u001b[0m \u001b[0mplt\u001b[0m\u001b[0;34m.\u001b[0m\u001b[0mtitle\u001b[0m\u001b[0;34m(\u001b[0m\u001b[0;34m\"Albemarle vaccination\"\u001b[0m\u001b[0;34m,\u001b[0m \u001b[0mfontsize\u001b[0m\u001b[0;34m=\u001b[0m\u001b[0;36m20\u001b[0m\u001b[0;34m)\u001b[0m\u001b[0;34m\u001b[0m\u001b[0;34m\u001b[0m\u001b[0m\n",
      "\u001b[0;32m~/anaconda3/lib/python3.8/site-packages/pandas/core/frame.py\u001b[0m in \u001b[0;36m__getitem__\u001b[0;34m(self, key)\u001b[0m\n\u001b[1;32m   3028\u001b[0m             \u001b[0;32mif\u001b[0m \u001b[0mis_iterator\u001b[0m\u001b[0;34m(\u001b[0m\u001b[0mkey\u001b[0m\u001b[0;34m)\u001b[0m\u001b[0;34m:\u001b[0m\u001b[0;34m\u001b[0m\u001b[0;34m\u001b[0m\u001b[0m\n\u001b[1;32m   3029\u001b[0m                 \u001b[0mkey\u001b[0m \u001b[0;34m=\u001b[0m \u001b[0mlist\u001b[0m\u001b[0;34m(\u001b[0m\u001b[0mkey\u001b[0m\u001b[0;34m)\u001b[0m\u001b[0;34m\u001b[0m\u001b[0;34m\u001b[0m\u001b[0m\n\u001b[0;32m-> 3030\u001b[0;31m             \u001b[0mindexer\u001b[0m \u001b[0;34m=\u001b[0m \u001b[0mself\u001b[0m\u001b[0;34m.\u001b[0m\u001b[0mloc\u001b[0m\u001b[0;34m.\u001b[0m\u001b[0m_get_listlike_indexer\u001b[0m\u001b[0;34m(\u001b[0m\u001b[0mkey\u001b[0m\u001b[0;34m,\u001b[0m \u001b[0maxis\u001b[0m\u001b[0;34m=\u001b[0m\u001b[0;36m1\u001b[0m\u001b[0;34m,\u001b[0m \u001b[0mraise_missing\u001b[0m\u001b[0;34m=\u001b[0m\u001b[0;32mTrue\u001b[0m\u001b[0;34m)\u001b[0m\u001b[0;34m[\u001b[0m\u001b[0;36m1\u001b[0m\u001b[0;34m]\u001b[0m\u001b[0;34m\u001b[0m\u001b[0;34m\u001b[0m\u001b[0m\n\u001b[0m\u001b[1;32m   3031\u001b[0m \u001b[0;34m\u001b[0m\u001b[0m\n\u001b[1;32m   3032\u001b[0m         \u001b[0;31m# take() does not accept boolean indexers\u001b[0m\u001b[0;34m\u001b[0m\u001b[0;34m\u001b[0m\u001b[0;34m\u001b[0m\u001b[0m\n",
      "\u001b[0;32m~/anaconda3/lib/python3.8/site-packages/pandas/core/indexing.py\u001b[0m in \u001b[0;36m_get_listlike_indexer\u001b[0;34m(self, key, axis, raise_missing)\u001b[0m\n\u001b[1;32m   1264\u001b[0m             \u001b[0mkeyarr\u001b[0m\u001b[0;34m,\u001b[0m \u001b[0mindexer\u001b[0m\u001b[0;34m,\u001b[0m \u001b[0mnew_indexer\u001b[0m \u001b[0;34m=\u001b[0m \u001b[0max\u001b[0m\u001b[0;34m.\u001b[0m\u001b[0m_reindex_non_unique\u001b[0m\u001b[0;34m(\u001b[0m\u001b[0mkeyarr\u001b[0m\u001b[0;34m)\u001b[0m\u001b[0;34m\u001b[0m\u001b[0;34m\u001b[0m\u001b[0m\n\u001b[1;32m   1265\u001b[0m \u001b[0;34m\u001b[0m\u001b[0m\n\u001b[0;32m-> 1266\u001b[0;31m         \u001b[0mself\u001b[0m\u001b[0;34m.\u001b[0m\u001b[0m_validate_read_indexer\u001b[0m\u001b[0;34m(\u001b[0m\u001b[0mkeyarr\u001b[0m\u001b[0;34m,\u001b[0m \u001b[0mindexer\u001b[0m\u001b[0;34m,\u001b[0m \u001b[0maxis\u001b[0m\u001b[0;34m,\u001b[0m \u001b[0mraise_missing\u001b[0m\u001b[0;34m=\u001b[0m\u001b[0mraise_missing\u001b[0m\u001b[0;34m)\u001b[0m\u001b[0;34m\u001b[0m\u001b[0;34m\u001b[0m\u001b[0m\n\u001b[0m\u001b[1;32m   1267\u001b[0m         \u001b[0;32mreturn\u001b[0m \u001b[0mkeyarr\u001b[0m\u001b[0;34m,\u001b[0m \u001b[0mindexer\u001b[0m\u001b[0;34m\u001b[0m\u001b[0;34m\u001b[0m\u001b[0m\n\u001b[1;32m   1268\u001b[0m \u001b[0;34m\u001b[0m\u001b[0m\n",
      "\u001b[0;32m~/anaconda3/lib/python3.8/site-packages/pandas/core/indexing.py\u001b[0m in \u001b[0;36m_validate_read_indexer\u001b[0;34m(self, key, indexer, axis, raise_missing)\u001b[0m\n\u001b[1;32m   1314\u001b[0m             \u001b[0;32mif\u001b[0m \u001b[0mraise_missing\u001b[0m\u001b[0;34m:\u001b[0m\u001b[0;34m\u001b[0m\u001b[0;34m\u001b[0m\u001b[0m\n\u001b[1;32m   1315\u001b[0m                 \u001b[0mnot_found\u001b[0m \u001b[0;34m=\u001b[0m \u001b[0mlist\u001b[0m\u001b[0;34m(\u001b[0m\u001b[0mset\u001b[0m\u001b[0;34m(\u001b[0m\u001b[0mkey\u001b[0m\u001b[0;34m)\u001b[0m \u001b[0;34m-\u001b[0m \u001b[0mset\u001b[0m\u001b[0;34m(\u001b[0m\u001b[0max\u001b[0m\u001b[0;34m)\u001b[0m\u001b[0;34m)\u001b[0m\u001b[0;34m\u001b[0m\u001b[0;34m\u001b[0m\u001b[0m\n\u001b[0;32m-> 1316\u001b[0;31m                 \u001b[0;32mraise\u001b[0m \u001b[0mKeyError\u001b[0m\u001b[0;34m(\u001b[0m\u001b[0;34mf\"{not_found} not in index\"\u001b[0m\u001b[0;34m)\u001b[0m\u001b[0;34m\u001b[0m\u001b[0;34m\u001b[0m\u001b[0m\n\u001b[0m\u001b[1;32m   1317\u001b[0m \u001b[0;34m\u001b[0m\u001b[0m\n\u001b[1;32m   1318\u001b[0m             \u001b[0mnot_found\u001b[0m \u001b[0;34m=\u001b[0m \u001b[0mkey\u001b[0m\u001b[0;34m[\u001b[0m\u001b[0mmissing_mask\u001b[0m\u001b[0;34m]\u001b[0m\u001b[0;34m\u001b[0m\u001b[0;34m\u001b[0m\u001b[0m\n",
      "\u001b[0;31mKeyError\u001b[0m: \"['2021-12-12', '2021-12-03', '2021-12-06', '2021-12-20', '2021-12-02', '2021-12-15', '2021-12-14', '2021-11-26', '2021-11-20', '2021-12-16', '2021-12-08', '2021-11-30', '2021-11-22', '2021-11-24', '2021-12-30', '2021-12-29', '2021-12-27', '2021-12-28', '2021-12-17', '2021-11-29', '2021-12-05', '2021-12-09', '2021-11-16', '2021-11-28', '2021-12-18', '2021-12-22', '2021-12-19', '2021-12-10', '2021-12-11', '2021-11-21', '2021-11-23', '2021-12-23', '2021-11-25', '2021-11-15', '2021-12-07', '2021-12-01', '2021-11-18', '2021-12-25', '2021-12-31', '2021-11-27', '2021-12-04', '2021-12-26', '2021-12-24', '2021-11-19', '2021-11-17', '2021-12-13', '2021-12-21'] not in index\""
     ]
    }
   ],
   "source": [
    "population = df_pop.loc[df_pop['countyFIPS'] == fips_to_analyse[1]]['population'].values[0]\n",
    "vax_full = list(df_filter_vax.loc[df_filter_vax['FIPS'] == str(fips_to_analyse[1])]['Series_Complete_Pop_Pct'])\n",
    "vax_full = list(reversed(vax_full))\n",
    "cases_per_capita = list(df_filter_cases.loc[df_filter_cases['countyFIPS'] == fips_to_analyse[1]][days].values[0])\n",
    "plt.plot(days,vax_full, label=counties_to_analyse[1])\n",
    "plt.title(\"Albemarle vaccination\", fontsize=20)\n",
    "plt.ylabel(\"Percentage of fully vaccinated\", fontsize=16)\n",
    "plt.xlabel(\"Dates\", fontsize=16)\n",
    "plt.xticks(['2022-01-01', '2022-01-20', '2022-04-09'], fontsize=12)\n",
    "plt.legend(fontsize=12)\n",
    "plt.rcParams[\"figure.figsize\"] = (8,6)\n",
    "plt.show()"
   ]
  },
  {
   "cell_type": "markdown",
   "id": "4506f881-24ec-4a16-8ade-9295252c587b",
   "metadata": {},
   "source": [
    "#### Day by day [daily increase of cases] from 21th March 2022 to 8th April 2022"
   ]
  },
  {
   "cell_type": "code",
   "execution_count": 28,
   "id": "6e7c213d-1b9a-4b14-88a8-feed5cb815aa",
   "metadata": {},
   "outputs": [
    {
     "data": {
      "image/png": "[encoded data removed]",
      "text/plain": [
       "<Figure size 576x432 with 1 Axes>"
      ]
     },
     "metadata": {
      "needs_background": "light"
     },
     "output_type": "display_data"
    }
   ],
   "source": [
    "days = days_of_months_printer_ww(3, 31)[19:] + days_of_months_printer_ww(4, 8)\n",
    "y_charlottesville =  list(df_filter_cases.loc[df_filter_cases['countyFIPS'] == fips_to_analyse[0]][days].values[0])\n",
    "y_charlottesville = [j-i for i, j in zip(y_charlottesville[:-1], y_charlottesville[1:])]\n",
    "days = days[1:]\n",
    "plt.bar(days, y_charlottesville, color ='maroon', width = 0.9)\n",
    "plt.title(\"Charlottesville cases\", fontsize=20)\n",
    "plt.ylabel(\"Increase of cases at given day\", fontsize=16)\n",
    "plt.xlabel(\"Dates\", fontsize=16)\n",
    "plt.xticks(['2022-03-21', '2022-03-31', '2022-04-08'], fontsize=12)\n",
    "#plt.legend(fontsize=12)\n",
    "plt.rcParams[\"figure.figsize\"] = (8,6)\n",
    "plt.show()\n",
    "#df_filter_cases.loc[df_filter_cases['countyFIPS'] == fips_to_analyse[0]][days]"
   ]
  },
  {
   "cell_type": "code",
   "execution_count": null,
   "id": "2ddacab2-b0c3-4594-adeb-8c2fc734f260",
   "metadata": {},
   "outputs": [],
   "source": [
    "plt.plot(days, y_charlottesville, color ='maroon')\n",
    "plt.title(\"Charlottesville cases\", fontsize=20)\n",
    "plt.ylabel(\"Increase of cases at given day\", fontsize=16)\n",
    "plt.xlabel(\"Dates\", fontsize=16)\n",
    "plt.xticks(['2022-03-21', '2022-03-31', '2022-04-08'], fontsize=12)\n",
    "#plt.legend(fontsize=12)\n",
    "plt.rcParams[\"figure.figsize\"] = (8,6)\n",
    "plt.show()"
   ]
  },
  {
   "cell_type": "code",
   "execution_count": null,
   "id": "940916b2-86e8-4a5d-821b-38cc7d05617f",
   "metadata": {},
   "outputs": [],
   "source": [
    "days = days_of_months_printer_ww(3, 31)[19:] + days_of_months_printer_ww(4, 8)\n",
    "y_albemarle =  list(df_filter_cases.loc[df_filter_cases['countyFIPS'] == fips_to_analyse[1]][days].values[0])\n",
    "y_albemarle = [j-i for i, j in zip(y_albemarle[:-1], y_albemarle[1:])]\n",
    "days = days[1:]\n",
    "plt.bar(days, y_albemarle, color ='maroon', width = 0.4)\n",
    "plt.title(\"Albemarle cases\", fontsize=20)\n",
    "plt.ylabel(\"Increase of cases at given day\", fontsize=16)\n",
    "plt.xlabel(\"Dates\", fontsize=16)\n",
    "plt.xticks(['2022-03-21', '2022-03-31', '2022-04-08'], fontsize=12)\n",
    "#plt.legend(fontsize=12)\n",
    "plt.rcParams[\"figure.figsize\"] = (8,6)\n",
    "plt.show()\n",
    "#df_filter_cases.loc[df_filter_cases['countyFIPS'] == fips_to_analyse[0]][days]"
   ]
  },
  {
   "cell_type": "code",
   "execution_count": null,
   "id": "01bd18f6-6ffe-483c-9375-2fc506020141",
   "metadata": {},
   "outputs": [],
   "source": [
    "for idx, f in enumerate(fips_to_analyse):\n",
    "    population = df_pop.loc[df_pop['countyFIPS'] == f]['population'].values[0]\n",
    "    vax_full = list(df_filter_vax.loc[df_filter_vax['FIPS'] == str(f)]['Series_Complete_Pop_Pct'])\n",
    "    vax_full = list(reversed(vax_full))\n",
    "    cases = list(df_filter_cases.loc[df_filter_cases['countyFIPS'] == f][days].values[0])\n",
    "    cases_per_capita = list(df_filter_cases.loc[df_filter_cases['countyFIPS'] == f][days].values[0]/float(df_pop.loc[(df_pop['countyFIPS'].isin([f]))]['population']))\n",
    "    plt.plot(days,cases, label=counties_to_analyse[idx])\n",
    "plt.title(\"Charlottesville and Albemarle counties\", fontsize=20)\n",
    "plt.ylabel(\"Total cases\", fontsize=16)\n",
    "plt.xlabel(\"Dates\", fontsize=16)\n",
    "plt.xticks(['2022-03-21', '2022-03-31', '2022-04-08'], fontsize=12)\n",
    "plt.legend(fontsize=12)\n",
    "#plt.rcParams[\"figure.figsize\"] = (14,9)\n",
    "plt.rcParams[\"figure.figsize\"] = (8,6)\n",
    "plt.show()"
   ]
  },
  {
   "cell_type": "markdown",
   "id": "9ba6c3ad-6d3b-4255-b5a9-276d6416f8b1",
   "metadata": {},
   "source": [
    "Charlottesville (same plot as in https://dailyprogress.com/news/local/some-covid-19-case-data-in-albemarle-charlottesville-area-is-misleading/article_b3253650-b458-11ec-a266-d39efc6fea97.html)"
   ]
  },
  {
   "cell_type": "code",
   "execution_count": null,
   "id": "ef5da805-af27-4ff6-9e9a-4b5ce01c9304",
   "metadata": {},
   "outputs": [],
   "source": [
    "counties_to_analyse = ['Charlottesville County']\n",
    "fips_to_analyse = [51540]\n",
    "# counties_to_analyse = ['Blaine County', 'Twin Falls County', 'Albemarle County']\n",
    "# fips_to_analyse = [16013, 16083, 51003]\n",
    "col_relevant = ['countyFIPS', 'County Name', 'State'] + days\n",
    "df_filter_cases = df_cases.loc[(df_cases['countyFIPS'].isin(fips_to_analyse))][col_relevant]\n",
    "days = days_of_months_printer_ww(12, 31, 2021)[27:] +  days_of_months_printer_ww(1, 31) + days_of_months_printer_ww(2, 28) + days_of_months_printer_ww(3, 31) + days_of_months_printer_ww(4, 8)\n",
    "y_charlottesville =  list(df_filter_cases.loc[df_filter_cases['countyFIPS'] == fips_to_analyse[0]][days].values[0])\n",
    "y_charlottesville = [j-i for i, j in zip(y_charlottesville[:-1], y_charlottesville[1:])]\n",
    "y_charlottesville_mod = []\n",
    "days = days[1:]\n",
    "plt.bar(days, y_charlottesville)\n",
    "plt.title(\"Charlottesville cases\", fontsize=20)\n",
    "plt.ylabel(\"Increase of cases at given day\", fontsize=16)\n",
    "plt.xlabel(\"Dates\", fontsize=16)\n",
    "plt.xticks(['2021-12-29','2022-01-07','2022-01-17','2022-01-27','2022-02-06','2022-02-16','2022-02-26', '2022-03-08', '2022-03-18', '2022-03-28', '2022-04-07'], fontsize=12)\n",
    "#plt.legend(fontsize=12)\n",
    "plt.rcParams[\"figure.figsize\"] = (16,6)\n",
    "plt.show()\n",
    "#df_filter_cases.loc[df_filter_cases['countyFIPS'] == fips_to_analyse[0]][days]"
   ]
  },
  {
   "cell_type": "code",
   "execution_count": null,
   "id": "531e879a-9df2-4e18-bfd1-95a767979c01",
   "metadata": {},
   "outputs": [],
   "source": [
    "df_filter_cases"
   ]
  },
  {
   "cell_type": "markdown",
   "id": "219cd853-185f-4e19-b952-fca3b70ac6a2",
   "metadata": {},
   "source": [
    "Blaine County (day by day)"
   ]
  },
  {
   "cell_type": "code",
   "execution_count": null,
   "id": "1727716b-c0bf-4ce7-b31d-239402704f6c",
   "metadata": {},
   "outputs": [],
   "source": [
    "counties_to_analyse = ['Blaine County']\n",
    "fips_to_analyse = [16013]\n",
    "col_relevant = ['countyFIPS', 'County Name', 'State'] + days\n",
    "df_filter_cases = df_cases.loc[(df_cases['countyFIPS'].isin(fips_to_analyse))][col_relevant]\n",
    "days = days_of_months_printer_ww(3, 31)[19:] + days_of_months_printer_ww(4, 8)\n",
    "y_blaine =  list(df_filter_cases.loc[df_filter_cases['countyFIPS'] == fips_to_analyse[0]][days].values[0])\n",
    "y_blaine = [j-i for i, j in zip(y_blaine[:-1], y_blaine[1:])]\n",
    "days = days[1:]\n",
    "plt.bar(days, y_blaine, color ='maroon', width = 0.9)\n",
    "plt.title(\"Blaine cases\", fontsize=20)\n",
    "plt.ylabel(\"Increase of cases at given day\", fontsize=16)\n",
    "plt.xlabel(\"Dates\", fontsize=16)\n",
    "plt.xticks(['2022-03-21', '2022-03-31', '2022-04-08'], fontsize=12)\n",
    "#plt.legend(fontsize=12)\n",
    "plt.rcParams[\"figure.figsize\"] = (8,6)\n",
    "plt.show()\n",
    "#df_filter_cases.loc[df_filter_cases['countyFIPS'] == fips_to_analyse[0]][days]"
   ]
  },
  {
   "cell_type": "code",
   "execution_count": null,
   "id": "ecd1e8bf-9f10-4ebc-a9b7-61f446590367",
   "metadata": {},
   "outputs": [],
   "source": [
    "df_filter_cases"
   ]
  },
  {
   "cell_type": "code",
   "execution_count": null,
   "id": "339dfbdd-cb3f-424b-a5bb-d086b8c8460a",
   "metadata": {},
   "outputs": [],
   "source": []
  }
 ],
 "metadata": {
  "kernelspec": {
   "display_name": "Python 3",
   "language": "python",
   "name": "python3"
  },
  "language_info": {
   "codemirror_mode": {
    "name": "ipython",
    "version": 3
   },
   "file_extension": ".py",
   "mimetype": "text/x-python",
   "name": "python",
   "nbconvert_exporter": "python",
   "pygments_lexer": "ipython3",
   "version": "3.8.8"
  }
 },
 "nbformat": 4,
 "nbformat_minor": 5
}
