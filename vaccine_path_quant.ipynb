{
 "cells": [
  {
   "cell_type": "markdown",
   "id": "208f77e7-411e-4a5d-86ab-8ad28f8b1552",
   "metadata": {},
   "source": [
    "### This notebook presents deaths over time for certain age groups with certain vaccination status"
   ]
  },
  {
   "cell_type": "code",
   "execution_count": 1,
   "id": "79ed4b2a-246c-47d1-8382-56bed37432c7",
   "metadata": {},
   "outputs": [],
   "source": [
    "#Imports\n",
    "import pandas as pd\n",
    "import matplotlib.pyplot as plt\n",
    "import math"
   ]
  },
  {
   "cell_type": "code",
   "execution_count": 2,
   "id": "0970eeca-20d0-472c-a673-e53bb862ef64",
   "metadata": {},
   "outputs": [
    {
     "data": {
      "text/html": [
       "<div>\n",
       "<style scoped>\n",
       "    .dataframe tbody tr th:only-of-type {\n",
       "        vertical-align: middle;\n",
       "    }\n",
       "\n",
       "    .dataframe tbody tr th {\n",
       "        vertical-align: top;\n",
       "    }\n",
       "\n",
       "    .dataframe thead th {\n",
       "        text-align: right;\n",
       "    }\n",
       "</style>\n",
       "<table border=\"1\" class=\"dataframe\">\n",
       "  <thead>\n",
       "    <tr style=\"text-align: right;\">\n",
       "      <th></th>\n",
       "      <th>outcome</th>\n",
       "      <th>month</th>\n",
       "      <th>mmwr_week</th>\n",
       "      <th>age_group</th>\n",
       "      <th>vaccine_product</th>\n",
       "      <th>one_boosted_with_outcome</th>\n",
       "      <th>one_booster_population</th>\n",
       "      <th>two_boosted_with_outcome</th>\n",
       "      <th>two_booster_population</th>\n",
       "      <th>vaccinated_with_outcome</th>\n",
       "      <th>...</th>\n",
       "      <th>crude_one_two_booster_irr</th>\n",
       "      <th>age_adj_one_booster_ir</th>\n",
       "      <th>age_adj_two_booster_ir</th>\n",
       "      <th>age_adj_vax_ir</th>\n",
       "      <th>age_adj_unvax_ir</th>\n",
       "      <th>age_adj_one_booster_irr</th>\n",
       "      <th>age_adj_two_booster_irr</th>\n",
       "      <th>age_adj_vax_irr</th>\n",
       "      <th>age_adj_one_two_booster_irr</th>\n",
       "      <th>continuity_correction</th>\n",
       "    </tr>\n",
       "  </thead>\n",
       "  <tbody>\n",
       "    <tr>\n",
       "      <th>72</th>\n",
       "      <td>case</td>\n",
       "      <td>JUN 2022</td>\n",
       "      <td>202225</td>\n",
       "      <td>50-64</td>\n",
       "      <td>all_types</td>\n",
       "      <td>38203</td>\n",
       "      <td>15567216</td>\n",
       "      <td>7552</td>\n",
       "      <td>3291537</td>\n",
       "      <td>21918</td>\n",
       "      <td>...</td>\n",
       "      <td>1.069605</td>\n",
       "      <td>NaN</td>\n",
       "      <td>NaN</td>\n",
       "      <td>NaN</td>\n",
       "      <td>NaN</td>\n",
       "      <td>NaN</td>\n",
       "      <td>NaN</td>\n",
       "      <td>NaN</td>\n",
       "      <td>NaN</td>\n",
       "      <td>1</td>\n",
       "    </tr>\n",
       "    <tr>\n",
       "      <th>73</th>\n",
       "      <td>case</td>\n",
       "      <td>JUN 2022</td>\n",
       "      <td>202225</td>\n",
       "      <td>65+</td>\n",
       "      <td>all_types</td>\n",
       "      <td>33359</td>\n",
       "      <td>15093200</td>\n",
       "      <td>13003</td>\n",
       "      <td>7360534</td>\n",
       "      <td>14128</td>\n",
       "      <td>...</td>\n",
       "      <td>1.251116</td>\n",
       "      <td>NaN</td>\n",
       "      <td>NaN</td>\n",
       "      <td>NaN</td>\n",
       "      <td>NaN</td>\n",
       "      <td>NaN</td>\n",
       "      <td>NaN</td>\n",
       "      <td>NaN</td>\n",
       "      <td>NaN</td>\n",
       "      <td>1</td>\n",
       "    </tr>\n",
       "    <tr>\n",
       "      <th>77</th>\n",
       "      <td>case</td>\n",
       "      <td>JUN 2022</td>\n",
       "      <td>202225</td>\n",
       "      <td>all_ages</td>\n",
       "      <td>all_types</td>\n",
       "      <td>71562</td>\n",
       "      <td>30660416</td>\n",
       "      <td>20555</td>\n",
       "      <td>10652071</td>\n",
       "      <td>36046</td>\n",
       "      <td>...</td>\n",
       "      <td>1.209542</td>\n",
       "      <td>234.253906</td>\n",
       "      <td>205.299509</td>\n",
       "      <td>154.276106</td>\n",
       "      <td>572.164702</td>\n",
       "      <td>2.442498</td>\n",
       "      <td>2.786975</td>\n",
       "      <td>3.708706</td>\n",
       "      <td>1.141035</td>\n",
       "      <td>1</td>\n",
       "    </tr>\n",
       "  </tbody>\n",
       "</table>\n",
       "<p>3 rows × 30 columns</p>\n",
       "</div>"
      ],
      "text/plain": [
       "   outcome     month  mmwr_week age_group vaccine_product  \\\n",
       "72    case  JUN 2022     202225     50-64       all_types   \n",
       "73    case  JUN 2022     202225       65+       all_types   \n",
       "77    case  JUN 2022     202225  all_ages       all_types   \n",
       "\n",
       "    one_boosted_with_outcome  one_booster_population  \\\n",
       "72                     38203                15567216   \n",
       "73                     33359                15093200   \n",
       "77                     71562                30660416   \n",
       "\n",
       "    two_boosted_with_outcome  two_booster_population  vaccinated_with_outcome  \\\n",
       "72                      7552                 3291537                    21918   \n",
       "73                     13003                 7360534                    14128   \n",
       "77                     20555                10652071                    36046   \n",
       "\n",
       "    ...  crude_one_two_booster_irr  age_adj_one_booster_ir  \\\n",
       "72  ...                   1.069605                     NaN   \n",
       "73  ...                   1.251116                     NaN   \n",
       "77  ...                   1.209542              234.253906   \n",
       "\n",
       "    age_adj_two_booster_ir  age_adj_vax_ir  age_adj_unvax_ir  \\\n",
       "72                     NaN             NaN               NaN   \n",
       "73                     NaN             NaN               NaN   \n",
       "77              205.299509      154.276106        572.164702   \n",
       "\n",
       "    age_adj_one_booster_irr  age_adj_two_booster_irr  age_adj_vax_irr  \\\n",
       "72                      NaN                      NaN              NaN   \n",
       "73                      NaN                      NaN              NaN   \n",
       "77                 2.442498                 2.786975         3.708706   \n",
       "\n",
       "    age_adj_one_two_booster_irr  continuity_correction  \n",
       "72                          NaN                      1  \n",
       "73                          NaN                      1  \n",
       "77                     1.141035                      1  \n",
       "\n",
       "[3 rows x 30 columns]"
      ]
     },
     "execution_count": 2,
     "metadata": {},
     "output_type": "execute_result"
    }
   ],
   "source": [
    "df = pd.read_csv('input_data/Rates_of_COVID-19_Cases_or_Deaths_by_Age_Group_and_Vaccination_Status_and_Second_Booster_Dose.csv')\n",
    "df = df.loc[(df['mmwr_week'] == 202225) & (df['outcome'] == 'case') & (df['vaccine_product'] == 'all_types')]\n",
    "df"
   ]
  },
  {
   "cell_type": "code",
   "execution_count": 3,
   "id": "51308ae4-ceaf-43d6-9a7b-75c490f5a704",
   "metadata": {},
   "outputs": [
    {
     "data": {
      "text/html": [
       "<div>\n",
       "<style scoped>\n",
       "    .dataframe tbody tr th:only-of-type {\n",
       "        vertical-align: middle;\n",
       "    }\n",
       "\n",
       "    .dataframe tbody tr th {\n",
       "        vertical-align: top;\n",
       "    }\n",
       "\n",
       "    .dataframe thead th {\n",
       "        text-align: right;\n",
       "    }\n",
       "</style>\n",
       "<table border=\"1\" class=\"dataframe\">\n",
       "  <thead>\n",
       "    <tr style=\"text-align: right;\">\n",
       "      <th></th>\n",
       "      <th>vaccine_product</th>\n",
       "      <th>one_booster_population</th>\n",
       "      <th>two_booster_population</th>\n",
       "      <th>fully_vaccinated_population</th>\n",
       "      <th>unvaccinated_population</th>\n",
       "    </tr>\n",
       "  </thead>\n",
       "  <tbody>\n",
       "    <tr>\n",
       "      <th>122</th>\n",
       "      <td>Janssen</td>\n",
       "      <td>1838432</td>\n",
       "      <td>452908</td>\n",
       "      <td>2380525</td>\n",
       "      <td>8845601.65</td>\n",
       "    </tr>\n",
       "    <tr>\n",
       "      <th>123</th>\n",
       "      <td>Moderna</td>\n",
       "      <td>12546044</td>\n",
       "      <td>6496868</td>\n",
       "      <td>9204982</td>\n",
       "      <td>8845601.65</td>\n",
       "    </tr>\n",
       "    <tr>\n",
       "      <th>124</th>\n",
       "      <td>Pfizer</td>\n",
       "      <td>13934892</td>\n",
       "      <td>7064153</td>\n",
       "      <td>10978309</td>\n",
       "      <td>8845601.65</td>\n",
       "    </tr>\n",
       "    <tr>\n",
       "      <th>125</th>\n",
       "      <td>all_types</td>\n",
       "      <td>28347240</td>\n",
       "      <td>14033348</td>\n",
       "      <td>22584645</td>\n",
       "      <td>8845601.65</td>\n",
       "    </tr>\n",
       "  </tbody>\n",
       "</table>\n",
       "</div>"
      ],
      "text/plain": [
       "    vaccine_product  one_booster_population  two_booster_population  \\\n",
       "122         Janssen                 1838432                  452908   \n",
       "123         Moderna                12546044                 6496868   \n",
       "124          Pfizer                13934892                 7064153   \n",
       "125       all_types                28347240                14033348   \n",
       "\n",
       "     fully_vaccinated_population  unvaccinated_population  \n",
       "122                      2380525               8845601.65  \n",
       "123                      9204982               8845601.65  \n",
       "124                     10978309               8845601.65  \n",
       "125                     22584645               8845601.65  "
      ]
     },
     "execution_count": 3,
     "metadata": {},
     "output_type": "execute_result"
    }
   ],
   "source": [
    "df = pd.read_csv('input_data/Rates_of_COVID-19_Cases_or_Deaths_by_Age_Group_and_Vaccination_Status_and_Second_Booster_Dose.csv')\n",
    "df = df.loc[(df['mmwr_week'] == 202233) & (df['outcome'] == 'case') & (df['age_group'] == 'all_ages')][['vaccine_product','one_booster_population', 'two_booster_population', 'fully_vaccinated_population', 'unvaccinated_population']]\n",
    "df"
   ]
  },
  {
   "cell_type": "code",
   "execution_count": 4,
   "id": "2c65f095-9bcb-495c-9f60-f9ad7ec12e7b",
   "metadata": {},
   "outputs": [],
   "source": [
    "# Paths of vaccination - quantification"
   ]
  },
  {
   "cell_type": "code",
   "execution_count": 5,
   "id": "6ae5cdce-0edd-49b1-a7e1-3cb0156b61eb",
   "metadata": {},
   "outputs": [
    {
     "name": "stdout",
     "output_type": "stream",
     "text": [
      "100%:\n",
      "73810834\n",
      "Unvaccinated:\n",
      "11.984150795532267\n",
      "Fully vaccinated:\n",
      "30.598008146067013\n",
      "1st Booster:\n",
      "38.40525633404982\n",
      "2nd Booster:\n",
      "19.01258560498043\n",
      "__________________________\n",
      "Fully vaccinated total:\n",
      "88.01585008509727\n",
      "1st Booster total:\n",
      "57.417841939030254\n",
      "2nd Booster total:\n",
      "19.01258560498043\n",
      "__________________________\n",
      "Generally\n",
      "100% --> 88.01585008509727 --> 57.417841939030254 --> 19.01258560498043\n"
     ]
    }
   ],
   "source": [
    "# Unvaccinated -> Fully vaccinated -> 1st Booster -> 2nd Booster\n",
    "dfa = df.loc[(df['vaccine_product'] == 'all_types')]\n",
    "print(\"100%:\")\n",
    "all_ppl = int(dfa['unvaccinated_population'].item() + dfa['fully_vaccinated_population'].item() + dfa['one_booster_population'].item() + dfa['two_booster_population'].item())\n",
    "print(all_ppl)\n",
    "print(\"Unvaccinated:\")\n",
    "print(dfa['unvaccinated_population'].item()/all_ppl * 100)\n",
    "print(\"Fully vaccinated:\")\n",
    "print(dfa['fully_vaccinated_population'].item()/all_ppl * 100)\n",
    "print(\"1st Booster:\")\n",
    "print(dfa['one_booster_population'].item()/all_ppl * 100)\n",
    "print(\"2nd Booster:\")\n",
    "print(dfa['two_booster_population'].item()/all_ppl * 100)\n",
    "print(\"__________________________\")\n",
    "print(\"Fully vaccinated total:\")\n",
    "total_full = (dfa['fully_vaccinated_population'].item() + dfa['one_booster_population'].item() + dfa['two_booster_population'].item())/all_ppl * 100\n",
    "print(total_full)\n",
    "print(\"1st Booster total:\")\n",
    "total_one = (dfa['one_booster_population'].item() + dfa['two_booster_population'].item())/all_ppl * 100\n",
    "print(total_one)\n",
    "print(\"2nd Booster total:\")\n",
    "total_two = dfa['two_booster_population'].item()/all_ppl * 100\n",
    "print(total_two)\n",
    "print(\"__________________________\")\n",
    "#Pathways\n",
    "print(\"Generally\")\n",
    "print(f\"100% --> {total_full} --> {total_one} --> {total_two}\")"
   ]
  },
  {
   "cell_type": "code",
   "execution_count": 6,
   "id": "6a2277c4-7c85-4395-8e96-bd6307b2c7c4",
   "metadata": {},
   "outputs": [
    {
     "name": "stdout",
     "output_type": "stream",
     "text": [
      "Pfizer\n",
      "100% --> 43.3233880001952 --> 28.44981402052712 --> 9.570618047751635\n"
     ]
    }
   ],
   "source": [
    "#Pfizer -> Pfizer -> 1st Booster -> 2nd Booster\n",
    "dfp = df.loc[(df['vaccine_product'] == 'Pfizer')]\n",
    "pfull = (dfp['fully_vaccinated_population'].item() + dfp['one_booster_population'].item() + dfp['two_booster_population'].item())/all_ppl * 100\n",
    "pone = (dfp['one_booster_population'].item() + dfp['two_booster_population'].item())/all_ppl * 100\n",
    "ptwo = dfp['two_booster_population'].item()/all_ppl * 100\n",
    "print(\"Pfizer\")\n",
    "print(f\"100% --> {pfull} --> {pone} --> {ptwo}\")"
   ]
  },
  {
   "cell_type": "code",
   "execution_count": 7,
   "id": "dd3156c9-6689-4b93-b341-52d13b042f84",
   "metadata": {},
   "outputs": [
    {
     "name": "stdout",
     "output_type": "stream",
     "text": [
      "Moderna\n",
      "100% --> 38.27066091679712 --> 25.799616354422984 --> 8.802052013123168\n"
     ]
    }
   ],
   "source": [
    "#Moderna -> Moderna -> 1st Booster -> 2nd Booster\n",
    "dfm = df.loc[(df['vaccine_product'] == 'Moderna')]\n",
    "mfull = (dfm['fully_vaccinated_population'].item() + dfm['one_booster_population'].item() + dfm['two_booster_population'].item())/all_ppl * 100\n",
    "mone = (dfm['one_booster_population'].item() + dfm['two_booster_population'].item())/all_ppl * 100\n",
    "mtwo = dfm['two_booster_population'].item()/all_ppl * 100\n",
    "print(\"Moderna\")\n",
    "print(f\"100% --> {mfull} --> {mone} --> {mtwo}\")"
   ]
  },
  {
   "cell_type": "code",
   "execution_count": 8,
   "id": "d53e0419-f1ce-4857-b5d2-260c5b1e928d",
   "metadata": {},
   "outputs": [
    {
     "name": "stdout",
     "output_type": "stream",
     "text": [
      "J&J\n",
      "100% --> 6.32951119343808 --> 3.1043410239748814 --> 0.6136063982151997\n"
     ]
    }
   ],
   "source": [
    "#J&J -> 1st Booster -> 2nd Booster\n",
    "dfj = df.loc[(df['vaccine_product'] == 'Janssen')]\n",
    "jfull = (dfj['fully_vaccinated_population'].item() + dfj['one_booster_population'].item() + dfj['two_booster_population'].item())/all_ppl * 100\n",
    "jone = (dfj['one_booster_population'].item() + dfj['two_booster_population'].item())/all_ppl * 100\n",
    "jtwo = dfj['two_booster_population'].item()/all_ppl * 100\n",
    "print(\"J&J\")\n",
    "print(f\"100% --> {jfull} --> {jone} --> {jtwo}\")"
   ]
  },
  {
   "cell_type": "markdown",
   "id": "5743974c-c05e-4f4c-91a9-ab62e206b798",
   "metadata": {},
   "source": [
    "### Complete vaccination records in each state"
   ]
  },
  {
   "cell_type": "code",
   "execution_count": 15,
   "id": "fe72d6ca-159d-4607-a85b-8c7db0d7da2d",
   "metadata": {},
   "outputs": [
    {
     "data": {
      "text/html": [
       "<div>\n",
       "<style scoped>\n",
       "    .dataframe tbody tr th:only-of-type {\n",
       "        vertical-align: middle;\n",
       "    }\n",
       "\n",
       "    .dataframe tbody tr th {\n",
       "        vertical-align: top;\n",
       "    }\n",
       "\n",
       "    .dataframe thead th {\n",
       "        text-align: right;\n",
       "    }\n",
       "</style>\n",
       "<table border=\"1\" class=\"dataframe\">\n",
       "  <thead>\n",
       "    <tr style=\"text-align: right;\">\n",
       "      <th></th>\n",
       "      <th>Series_Complete_Yes</th>\n",
       "      <th>Series_Complete_Moderna</th>\n",
       "      <th>Series_Complete_Pfizer</th>\n",
       "      <th>Series_Complete_Novavax</th>\n",
       "      <th>Series_Complete_Janssen</th>\n",
       "      <th>Series_Complete_Unk_Manuf</th>\n",
       "      <th>Additional_Doses</th>\n",
       "      <th>Additional_Doses_Moderna</th>\n",
       "      <th>Additional_Doses_Pfizer</th>\n",
       "      <th>Additional_Doses_Janssen</th>\n",
       "      <th>Additional_Doses_Unk_Manuf</th>\n",
       "      <th>Second_Booster</th>\n",
       "      <th>Second_Booster_Moderna</th>\n",
       "      <th>Second_Booster_Pfizer</th>\n",
       "      <th>Second_Booster_Janssen</th>\n",
       "      <th>Second_Booster_Unk_Manuf</th>\n",
       "    </tr>\n",
       "  </thead>\n",
       "  <tbody>\n",
       "    <tr>\n",
       "      <th>24</th>\n",
       "      <td>227802408</td>\n",
       "      <td>79085653</td>\n",
       "      <td>131088876</td>\n",
       "      <td>15647.0</td>\n",
       "      <td>17145289</td>\n",
       "      <td>212396</td>\n",
       "      <td>113272617.0</td>\n",
       "      <td>47282767.0</td>\n",
       "      <td>64375029.0</td>\n",
       "      <td>1553695.0</td>\n",
       "      <td>58449.0</td>\n",
       "      <td>37106370.0</td>\n",
       "      <td>15864369.0</td>\n",
       "      <td>21194803.0</td>\n",
       "      <td>21698.0</td>\n",
       "      <td>22980.0</td>\n",
       "    </tr>\n",
       "  </tbody>\n",
       "</table>\n",
       "</div>"
      ],
      "text/plain": [
       "    Series_Complete_Yes  Series_Complete_Moderna  Series_Complete_Pfizer  \\\n",
       "24            227802408                 79085653               131088876   \n",
       "\n",
       "    Series_Complete_Novavax  Series_Complete_Janssen  \\\n",
       "24                  15647.0                 17145289   \n",
       "\n",
       "    Series_Complete_Unk_Manuf  Additional_Doses  Additional_Doses_Moderna  \\\n",
       "24                     212396       113272617.0                47282767.0   \n",
       "\n",
       "    Additional_Doses_Pfizer  Additional_Doses_Janssen  \\\n",
       "24               64375029.0                 1553695.0   \n",
       "\n",
       "    Additional_Doses_Unk_Manuf  Second_Booster  Second_Booster_Moderna  \\\n",
       "24                     58449.0      37106370.0              15864369.0   \n",
       "\n",
       "    Second_Booster_Pfizer  Second_Booster_Janssen  Second_Booster_Unk_Manuf  \n",
       "24             21194803.0                 21698.0                   22980.0  "
      ]
     },
     "execution_count": 15,
     "metadata": {},
     "output_type": "execute_result"
    }
   ],
   "source": [
    "#Source: https://data.cdc.gov/Vaccinations/COVID-19-Vaccinations-in-the-United-States-Jurisdi/unsk-b7fc\n",
    "df = pd.read_csv('input_data/COVID-19_Vaccinations_in_the_United_States_Jurisdiction.csv')\n",
    "population_us = 329.5 * 1000000\n",
    "df = df.loc[(df['Date'] == '11/09/2022') & (df['Location'] == 'US')]\n",
    "chosen_cols = ['Series_Complete_Yes',\n",
    " 'Series_Complete_Moderna',\n",
    " 'Series_Complete_Pfizer',\n",
    " 'Series_Complete_Novavax',\n",
    " 'Series_Complete_Janssen',\n",
    " 'Series_Complete_Unk_Manuf',\n",
    " 'Additional_Doses',\n",
    " 'Additional_Doses_Moderna',\n",
    " 'Additional_Doses_Pfizer',\n",
    " 'Additional_Doses_Janssen',\n",
    " 'Additional_Doses_Unk_Manuf',\n",
    " 'Second_Booster',\n",
    " 'Second_Booster_Moderna',\n",
    " 'Second_Booster_Pfizer',\n",
    " 'Second_Booster_Janssen',\n",
    " 'Second_Booster_Unk_Manuf']\n",
    "df = df[chosen_cols]\n",
    "df"
   ]
  },
  {
   "cell_type": "code",
   "execution_count": 16,
   "id": "a1a7a4f9-551d-4c57-9ae3-785f0eddc926",
   "metadata": {},
   "outputs": [
    {
     "name": "stdout",
     "output_type": "stream",
     "text": [
      "Any vaccine: 100% --> 69.1 --> 34.4 --> 11.2\n"
     ]
    }
   ],
   "source": [
    "total_full = round(df['Series_Complete_Yes'].item()/population_us * 100,1)\n",
    "total_one = round(df['Additional_Doses'].item()/population_us * 100,1)\n",
    "total_two = math.floor(df['Second_Booster'].item()*10/population_us * 100)/10\n",
    "print(f\"Any vaccine: 100% --> {total_full} --> {total_one} --> {total_two}\")"
   ]
  },
  {
   "cell_type": "code",
   "execution_count": 17,
   "id": "49739f5c-e0d9-4060-afa2-5abff246105f",
   "metadata": {},
   "outputs": [
    {
     "name": "stdout",
     "output_type": "stream",
     "text": [
      "**Pfizer** \n",
      "primary series: 39.8 \n",
      "1st Booster: 19.5 \n",
      "2nd Booster: 6.4\n"
     ]
    }
   ],
   "source": [
    "total_full = round(df['Series_Complete_Pfizer'].item()/population_us * 100,1)\n",
    "total_one = round(df['Additional_Doses_Pfizer'].item()/population_us * 100,1)\n",
    "total_two = round(df['Second_Booster_Pfizer'].item()/population_us * 100,1)\n",
    "print(f\"**Pfizer** \\nprimary series: {total_full} \\n1st Booster: {total_one} \\n2nd Booster: {total_two}\")"
   ]
  },
  {
   "cell_type": "code",
   "execution_count": 18,
   "id": "5f4cd8d0-c3c4-4e40-a174-34c960acd6b9",
   "metadata": {},
   "outputs": [
    {
     "name": "stdout",
     "output_type": "stream",
     "text": [
      "**Moderna** \n",
      "primary series: 24.0 \n",
      "1st Booster: 14.3 \n",
      "2nd Booster: 4.8\n"
     ]
    }
   ],
   "source": [
    "total_full = round(df['Series_Complete_Moderna'].item()/population_us * 100,1)\n",
    "total_one = round(df['Additional_Doses_Moderna'].item()/population_us * 100,1)\n",
    "total_two = round(df['Second_Booster_Moderna'].item()/population_us * 100,1)\n",
    "print(f\"**Moderna** \\nprimary series: {total_full} \\n1st Booster: {total_one} \\n2nd Booster: {total_two}\")"
   ]
  },
  {
   "cell_type": "code",
   "execution_count": 19,
   "id": "77226701-dd33-4b22-b08b-3c42a25926b7",
   "metadata": {},
   "outputs": [
    {
     "name": "stdout",
     "output_type": "stream",
     "text": [
      "**J&J/Janssen** \n",
      "primary series: 5.2 \n",
      "1st Booster: 0.5 \n",
      "2nd Booster: 0.0\n"
     ]
    }
   ],
   "source": [
    "total_full = round(df['Series_Complete_Janssen'].item()/population_us * 100,1)\n",
    "total_one = round(df['Additional_Doses_Janssen'].item()/population_us * 100,1)\n",
    "total_two = round(df['Second_Booster_Janssen'].item()/population_us * 100,1)\n",
    "print(f\"**J&J/Janssen** \\nprimary series: {total_full} \\n1st Booster: {total_one} \\n2nd Booster: {total_two}\")"
   ]
  },
  {
   "cell_type": "code",
   "execution_count": 22,
   "id": "5e31635c-e309-47c4-b677-9dafb2782e2b",
   "metadata": {},
   "outputs": [
    {
     "name": "stdout",
     "output_type": "stream",
     "text": [
      "**Unknown manufacturer** \n",
      "primary series: 0.1 \n",
      "1st Booster: 0.0 \n",
      "2nd Booster: 0.0\n",
      "**Novavax** \n",
      "primary series: 0.0\n"
     ]
    }
   ],
   "source": [
    "total_full = round((df['Series_Complete_Unk_Manuf'].item()+df['Series_Complete_Novavax'].item())/population_us * 100,1)\n",
    "total_full_n = round(df['Series_Complete_Novavax'].item()/population_us * 100,1)\n",
    "total_one = round(df['Additional_Doses_Unk_Manuf'].item()/population_us * 100,1)\n",
    "total_two = round(df['Second_Booster_Unk_Manuf'].item()/population_us * 100,1)\n",
    "print(f\"**Unknown manufacturer** \\nprimary series: {total_full} \\n1st Booster: {total_one} \\n2nd Booster: {total_two}\")\n",
    "print(f\"**Novavax** \\nprimary series: {total_full_n}\")"
   ]
  },
  {
   "cell_type": "code",
   "execution_count": null,
   "id": "81fccea1-e0be-4a69-b95e-7eeb7c5b3e65",
   "metadata": {},
   "outputs": [],
   "source": []
  }
 ],
 "metadata": {
  "kernelspec": {
   "display_name": "Python 3",
   "language": "python",
   "name": "python3"
  },
  "language_info": {
   "codemirror_mode": {
    "name": "ipython",
    "version": 3
   },
   "file_extension": ".py",
   "mimetype": "text/x-python",
   "name": "python",
   "nbconvert_exporter": "python",
   "pygments_lexer": "ipython3",
   "version": "3.8.8"
  }
 },
 "nbformat": 4,
 "nbformat_minor": 5
}
