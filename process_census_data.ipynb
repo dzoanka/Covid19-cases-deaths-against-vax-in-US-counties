{
 "cells": [
  {
   "cell_type": "markdown",
   "id": "439fb124-6cdd-459b-9234-bbf2d17e9ceb",
   "metadata": {},
   "source": [
    "## Notebook processes census data of higer education in US and then look for possible correlation between vaccination rate and education level in US counties\n",
    "- PART 1: "
   ]
  },
  {
   "cell_type": "code",
   "execution_count": 1,
   "id": "674b7bde-ce50-45e2-bd39-706ac15638aa",
   "metadata": {},
   "outputs": [],
   "source": [
    "import pandas as pd\n",
    "import matplotlib.pyplot as plt\n",
    "import seaborn as sns\n",
    "from selenium import webdriver\n",
    "from selenium.webdriver.common.keys import Keys\n",
    "import time\n",
    "import numpy as np"
   ]
  },
  {
   "cell_type": "code",
   "execution_count": 2,
   "id": "8fc1e592-7d92-4b50-ab87-3134a21e6bab",
   "metadata": {},
   "outputs": [
    {
     "name": "stderr",
     "output_type": "stream",
     "text": [
      "/home/joanna_len/anaconda3/lib/python3.8/site-packages/IPython/core/interactiveshell.py:3165: DtypeWarning: Columns (1) have mixed types.Specify dtype option on import or set low_memory=False.\n",
      "  has_raised = await self.run_ast_nodes(code_ast.body, cell_name,\n"
     ]
    }
   ],
   "source": [
    "df_vax = pd.read_csv('input_data/COVID-19_Vaccinations_in_the_United_States_County.csv')"
   ]
  },
  {
   "cell_type": "code",
   "execution_count": 3,
   "id": "d9446340-95e5-4e6e-a0d0-4bc3fea1eca5",
   "metadata": {},
   "outputs": [],
   "source": [
    "fipses = list(df_vax['FIPS'])\n",
    "fips_unq = list(set(fipses))\n",
    "fips_unq.remove('UNK')"
   ]
  },
  {
   "cell_type": "code",
   "execution_count": 4,
   "id": "d7d29c74-84d0-4394-8298-d599fe9bc519",
   "metadata": {},
   "outputs": [
    {
     "data": {
      "text/plain": [
       "'\\nurls = []\\nfor fips in fips_unq:\\n    urls.append(\"https://data.census.gov/cedsci/profile?g=0500000US\" + fips)\\n'"
      ]
     },
     "execution_count": 4,
     "metadata": {},
     "output_type": "execute_result"
    }
   ],
   "source": [
    "\"\"\"\n",
    "urls = []\n",
    "for fips in fips_unq:\n",
    "    urls.append(\"https://data.census.gov/cedsci/profile?g=0500000US\" + fips)\n",
    "\"\"\""
   ]
  },
  {
   "cell_type": "code",
   "execution_count": 5,
   "id": "c89ec8ea-dd89-470a-957a-8275689ab54b",
   "metadata": {},
   "outputs": [],
   "source": [
    "#driver = webdriver.Firefox(executable_path=\"./drivers/geckodriver\")"
   ]
  },
  {
   "cell_type": "code",
   "execution_count": 6,
   "id": "afbe1280-1fd9-4a95-b0e0-3991aae1d2d9",
   "metadata": {},
   "outputs": [
    {
     "data": {
      "text/plain": [
       "'\\np_edu = dict()\\nfor fips in fips_unq:\\n    try:\\n        driver.get(\"https://data.census.gov/cedsci/profile?g=0500000US\" + fips)\\n        time.sleep(10)\\n        content=driver.find_element_by_xpath(\"/html/body/div/div[3]/div/div/div[4]/div[2]/div[1]/div/div[3]/main/div[1]/div/div/div[1]/div[3]/div[3]/div[3]\").text\\n        p_edu[fips] = float(content.replace(\\'%\\',\\'\\'))\\n    except:\\n        continue\\n'"
      ]
     },
     "execution_count": 6,
     "metadata": {},
     "output_type": "execute_result"
    }
   ],
   "source": [
    "\"\"\"\n",
    "p_edu = dict()\n",
    "for fips in fips_unq:\n",
    "    try:\n",
    "        driver.get(\"https://data.census.gov/cedsci/profile?g=0500000US\" + fips)\n",
    "        time.sleep(10)\n",
    "        content=driver.find_element_by_xpath(\"/html/body/div/div[3]/div/div/div[4]/div[2]/div[1]/div/div[3]/main/div[1]/div/div/div[1]/div[3]/div[3]/div[3]\").text\n",
    "        p_edu[fips] = float(content.replace('%',''))\n",
    "    except:\n",
    "        continue\n",
    "\"\"\""
   ]
  },
  {
   "cell_type": "code",
   "execution_count": 7,
   "id": "79228383-7d3e-49cc-9245-a0d82754bfaa",
   "metadata": {},
   "outputs": [],
   "source": [
    "import pickle"
   ]
  },
  {
   "cell_type": "code",
   "execution_count": 8,
   "id": "f0584db4-7886-4532-8940-6f707ac25a91",
   "metadata": {},
   "outputs": [
    {
     "data": {
      "text/plain": [
       "'\\nfor x in list(p_edu.keys()):\\n    fips_unq.remove(x)\\n'"
      ]
     },
     "execution_count": 8,
     "metadata": {},
     "output_type": "execute_result"
    }
   ],
   "source": [
    "\"\"\"\n",
    "for x in list(p_edu.keys()):\n",
    "    fips_unq.remove(x)\n",
    "\"\"\""
   ]
  },
  {
   "cell_type": "code",
   "execution_count": 9,
   "id": "061dbdc1-fde2-4629-82ba-f489c4fa4c1a",
   "metadata": {},
   "outputs": [
    {
     "data": {
      "text/plain": [
       "'\\np_edu = dict()\\nfor fips in fips_unq:\\n    try:\\n        driver.get(\"https://data.census.gov/cedsci/profile?g=0500000US\" + fips)\\n        time.sleep(10)\\n        content=driver.find_element_by_xpath(\"/html/body/div/div[3]/div/div/div[4]/div[2]/div[1]/div/div[3]/main/div[1]/div/div/div[1]/div[3]/div[3]/div[3]\").text\\n        p_edu[fips] = float(content.replace(\\'%\\',\\'\\'))\\n        with open(\\'filename2.pickle\\', \\'wb\\') as handle:\\n            pickle.dump(p_edu, handle, protocol=pickle.HIGHEST_PROTOCOL)\\n    except:\\n        continue\\n'"
      ]
     },
     "execution_count": 9,
     "metadata": {},
     "output_type": "execute_result"
    }
   ],
   "source": [
    "\"\"\"\n",
    "p_edu = dict()\n",
    "for fips in fips_unq:\n",
    "    try:\n",
    "        driver.get(\"https://data.census.gov/cedsci/profile?g=0500000US\" + fips)\n",
    "        time.sleep(10)\n",
    "        content=driver.find_element_by_xpath(\"/html/body/div/div[3]/div/div/div[4]/div[2]/div[1]/div/div[3]/main/div[1]/div/div/div[1]/div[3]/div[3]/div[3]\").text\n",
    "        p_edu[fips] = float(content.replace('%',''))\n",
    "        with open('filename2.pickle', 'wb') as handle:\n",
    "            pickle.dump(p_edu, handle, protocol=pickle.HIGHEST_PROTOCOL)\n",
    "    except:\n",
    "        continue\n",
    "\"\"\""
   ]
  },
  {
   "cell_type": "code",
   "execution_count": 10,
   "id": "b5a739f4-5077-4916-a5d5-d86efbb16d88",
   "metadata": {},
   "outputs": [],
   "source": [
    "#len(p_edu.keys())"
   ]
  },
  {
   "cell_type": "code",
   "execution_count": 11,
   "id": "3a407b59-cf62-4f5d-9d57-c59ed12a1b19",
   "metadata": {},
   "outputs": [],
   "source": [
    "with open('filename.pickle', 'rb') as handle:\n",
    "    b1 = pickle.load(handle)"
   ]
  },
  {
   "cell_type": "code",
   "execution_count": 12,
   "id": "e866f12a-3551-4f17-a479-7ca0f6b0feee",
   "metadata": {},
   "outputs": [],
   "source": [
    "with open('filename2.pickle', 'rb') as handle:\n",
    "    b2 = pickle.load(handle)"
   ]
  },
  {
   "cell_type": "code",
   "execution_count": 13,
   "id": "373c66c6-a288-44d7-ace6-780077bd4b05",
   "metadata": {},
   "outputs": [],
   "source": [
    "b2.update(b1)"
   ]
  },
  {
   "cell_type": "code",
   "execution_count": 14,
   "id": "466af58d-ab81-4461-aba2-6b1bd071229b",
   "metadata": {},
   "outputs": [],
   "source": [
    "y = list()\n",
    "for fips in list(b2.keys()):\n",
    "    y.append(df_vax.loc[(df_vax['FIPS'] == str(fips)) & (df_vax['Date'] == '06/01/2022')]['Series_Complete_Pop_Pct'].item())"
   ]
  },
  {
   "cell_type": "code",
   "execution_count": 15,
   "id": "bb348786-5ff6-4aed-8bf2-99c2522648ef",
   "metadata": {
    "tags": []
   },
   "outputs": [],
   "source": [
    "x = list(b2.values())"
   ]
  },
  {
   "cell_type": "code",
   "execution_count": 16,
   "id": "8d1cb89e-98e9-4086-8204-3244d6092413",
   "metadata": {
    "tags": []
   },
   "outputs": [],
   "source": [
    "y_new = list()\n",
    "x_new = list()\n",
    "for idx,i in enumerate(y):\n",
    "    if (i >= 0):\n",
    "        y_new.append(i)\n",
    "        x_new.append(x[idx])\n",
    "#ori_data.dropna(inplace=True)\n",
    "x = x_new\n",
    "y = y_new"
   ]
  },
  {
   "cell_type": "code",
   "execution_count": 17,
   "id": "937822ef-b0e4-43bf-8264-7ddf07a695eb",
   "metadata": {
    "tags": []
   },
   "outputs": [
    {
     "name": "stdout",
     "output_type": "stream",
     "text": [
      "37.2352345289618\n"
     ]
    }
   ],
   "source": [
    "m, b = np.polyfit(x, y, 1)\n",
    "print(b)"
   ]
  },
  {
   "cell_type": "code",
   "execution_count": 18,
   "id": "561ddc77-9850-4dac-9087-10903ac716e9",
   "metadata": {},
   "outputs": [
    {
     "data": {
      "image/png": "[encoded data removed]",
      "text/plain": [
       "<Figure size 432x288 with 1 Axes>"
      ]
     },
     "metadata": {
      "needs_background": "light"
     },
     "output_type": "display_data"
    }
   ],
   "source": [
    "plt.plot(x, y, 'o')\n",
    "plt.plot(x, m * np.array(x) + b)\n",
    "\n",
    "plt.title(\"US counties\", fontsize=16)\n",
    "plt.ylabel(\"Vaccination fraction [%]\", fontsize=14)\n",
    "plt.xlabel(\"Higher education fraction [%]\", fontsize=14, labelpad=12)\n",
    "plt.ylim([-2, 102])\n",
    "plt.xlim([-2, 102])\n",
    "plt.xticks(fontsize=14)\n",
    "plt.yticks(fontsize=14)\n",
    "plt.rcParams[\"figure.figsize\"] = (12,8)\n",
    "plt.show()"
   ]
  },
  {
   "cell_type": "code",
   "execution_count": 19,
   "id": "f79f8476-e2e0-4bf3-aa48-933a3b59c477",
   "metadata": {},
   "outputs": [],
   "source": [
    "d = {'Higher education [x]':x, 'Vaccination [y]':y}\n",
    "df = pd.DataFrame(d, columns=['Higher education [x]','Vaccination [y]'])"
   ]
  },
  {
   "cell_type": "code",
   "execution_count": 20,
   "id": "1458537d-2e3c-4e5d-8292-5dd5f5c67201",
   "metadata": {},
   "outputs": [],
   "source": [
    "df.to_csv(\"data_higher_education_fullvax.csv\")"
   ]
  },
  {
   "cell_type": "code",
   "execution_count": 21,
   "id": "c8082609-5c28-4a8a-a5a7-4a4eb44f1297",
   "metadata": {},
   "outputs": [],
   "source": [
    "df.to_excel(\"data_higher_education_fullvax.xlsx\")  "
   ]
  },
  {
   "cell_type": "code",
   "execution_count": 24,
   "id": "759f7257-c84f-4c0c-8013-ba1c751d8659",
   "metadata": {},
   "outputs": [
    {
     "name": "stdout",
     "output_type": "stream",
     "text": [
      "Pearsons correlation: 0.498\n"
     ]
    }
   ],
   "source": [
    "from scipy.stats import pearsonr\n",
    "\n",
    "corr, _ = pearsonr(x, y)\n",
    "print('Pearsons correlation: %.3f' % corr)"
   ]
  },
  {
   "cell_type": "code",
   "execution_count": null,
   "id": "911a15f7-90c1-4a40-9763-9106bec93bc5",
   "metadata": {},
   "outputs": [],
   "source": []
  }
 ],
 "metadata": {
  "kernelspec": {
   "display_name": "Python 3",
   "language": "python",
   "name": "python3"
  },
  "language_info": {
   "codemirror_mode": {
    "name": "ipython",
    "version": 3
   },
   "file_extension": ".py",
   "mimetype": "text/x-python",
   "name": "python",
   "nbconvert_exporter": "python",
   "pygments_lexer": "ipython3",
   "version": "3.8.8"
  }
 },
 "nbformat": 4,
 "nbformat_minor": 5
}
