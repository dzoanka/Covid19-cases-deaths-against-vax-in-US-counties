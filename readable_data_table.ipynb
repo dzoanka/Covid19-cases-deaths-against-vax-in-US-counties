{
 "cells": [
  {
   "cell_type": "markdown",
   "id": "738aafa6-d836-4b22-b9c4-ca9f1fafff78",
   "metadata": {},
   "source": [
    "### This notebook generates easily readable table with most important data about counties: \n",
    "`countyFIPS`, `County Name`, `State`, `Population`, `Land Area`, `Average vaccination rate in given period`, `Cases of COVID19 in given period`, `Deaths in given period`\n",
    "##### (the period is the one chosen in Vax_cases_deaths.ipynb)"
   ]
  },
  {
   "cell_type": "code",
   "execution_count": 71,
   "id": "f3479872-b413-4355-ac14-d81d66603c3a",
   "metadata": {},
   "outputs": [],
   "source": [
    "# File where the data will be saved\n",
    "file_name = \"counties_data_jan22.csv\""
   ]
  },
  {
   "cell_type": "code",
   "execution_count": 72,
   "id": "eb0a6dc8-b0a6-430f-bce1-8eaeb8d3b966",
   "metadata": {},
   "outputs": [],
   "source": [
    "# Imports\n",
    "import pandas as pd"
   ]
  },
  {
   "cell_type": "code",
   "execution_count": 73,
   "id": "0096b3ed-048a-4244-a0d3-d1859371fddb",
   "metadata": {},
   "outputs": [],
   "source": [
    "df = pd.read_csv('vax_cases_deaths.csv')"
   ]
  },
  {
   "cell_type": "code",
   "execution_count": 74,
   "id": "79820485-cae6-41ca-9deb-813629a505c4",
   "metadata": {},
   "outputs": [],
   "source": [
    "new = df[['countyFIPS', 'County Name', 'State', 'Population', 'Cases in given period', 'Deaths in given period', 'Percentage of fully vaccinated', 'Percentage of vaccinated with booster']].copy()"
   ]
  },
  {
   "cell_type": "code",
   "execution_count": 75,
   "id": "9cf88176-e853-4a2e-b325-c7288bbc14bf",
   "metadata": {},
   "outputs": [],
   "source": [
    "#File from https://www.openintro.org/data/?data=county_complete\n",
    "df_area = pd.read_csv('county_complete.csv')"
   ]
  },
  {
   "cell_type": "code",
   "execution_count": 76,
   "id": "3e76db38-95b7-44a1-a38d-9c6fdc17dc5b",
   "metadata": {},
   "outputs": [],
   "source": [
    "fips_counties = list(new['countyFIPS'])\n",
    "area_data = list()\n",
    "for fips in fips_counties:\n",
    "    row = df_area.loc[df_area['fips'] == fips]\n",
    "    area_data.append(row['area_2010'].item())"
   ]
  },
  {
   "cell_type": "code",
   "execution_count": 77,
   "id": "480ae60f-f1af-4f2c-8b43-8eef9b363ea8",
   "metadata": {},
   "outputs": [],
   "source": [
    "new.insert(4, 'Land Area in square miles', area_data)\n",
    "new.insert(5, 'Pop. Density', new['Population']/new['Land Area in square miles'])"
   ]
  },
  {
   "cell_type": "code",
   "execution_count": 78,
   "id": "90e51b31-3f78-47e3-890f-570313e35100",
   "metadata": {},
   "outputs": [],
   "source": [
    "new.to_csv(file_name, index = False)"
   ]
  },
  {
   "cell_type": "code",
   "execution_count": null,
   "id": "48d6468f-a500-49c4-b952-0bf6907e0e3d",
   "metadata": {},
   "outputs": [],
   "source": []
  }
 ],
 "metadata": {
  "kernelspec": {
   "display_name": "Python 3",
   "language": "python",
   "name": "python3"
  },
  "language_info": {
   "codemirror_mode": {
    "name": "ipython",
    "version": 3
   },
   "file_extension": ".py",
   "mimetype": "text/x-python",
   "name": "python",
   "nbconvert_exporter": "python",
   "pygments_lexer": "ipython3",
   "version": "3.8.8"
  }
 },
 "nbformat": 4,
 "nbformat_minor": 5
}
