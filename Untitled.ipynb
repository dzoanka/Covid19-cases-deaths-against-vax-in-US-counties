{
 "cells": [
  {
   "cell_type": "code",
   "execution_count": 3,
   "id": "9ecd755d-c143-4f0f-b284-694b2981965f",
   "metadata": {},
   "outputs": [],
   "source": [
    "# Hospitalizations - Daily average U.S. Covid patients in the hospital"
   ]
  },
  {
   "cell_type": "code",
   "execution_count": 4,
   "id": "f057edf1-49df-49db-bf06-79277d18b37a",
   "metadata": {},
   "outputs": [],
   "source": [
    "#Imports\n",
    "import pandas as pd\n",
    "import matplotlib.pyplot as plt"
   ]
  },
  {
   "cell_type": "code",
   "execution_count": null,
   "id": "6df364dc-d659-4db9-bd80-08762fd5a692",
   "metadata": {},
   "outputs": [],
   "source": []
  },
  {
   "cell_type": "code",
   "execution_count": null,
   "id": "f2830aae-a61a-470b-b2d2-a6c50d18e09e",
   "metadata": {},
   "outputs": [],
   "source": []
  }
 ],
 "metadata": {
  "kernelspec": {
   "display_name": "Python 3",
   "language": "python",
   "name": "python3"
  },
  "language_info": {
   "codemirror_mode": {
    "name": "ipython",
    "version": 3
   },
   "file_extension": ".py",
   "mimetype": "text/x-python",
   "name": "python",
   "nbconvert_exporter": "python",
   "pygments_lexer": "ipython3",
   "version": "3.8.8"
  }
 },
 "nbformat": 4,
 "nbformat_minor": 5
}
